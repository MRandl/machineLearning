{
 "cells": [
  {
   "cell_type": "code",
   "execution_count": 1,
   "id": "d5f561ff-6f24-4637-b93b-bdcf10bdb5f6",
   "metadata": {},
   "outputs": [],
   "source": [
    "import numpy as np\n",
    "from helpers import *\n",
    "from implementations import *"
   ]
  },
  {
   "cell_type": "code",
   "execution_count": 2,
   "id": "2a8e28e0-9503-41db-a4c9-6017116a99a0",
   "metadata": {},
   "outputs": [],
   "source": [
    "(y, ox, ids) = load_csv_data('data/train.csv')\n",
    "\n",
    "(_, otest, testid) = load_csv_data('data/test.csv')"
   ]
  },
  {
   "cell_type": "code",
   "execution_count": 3,
   "id": "f2a48ee5-3da3-4de9-8ed7-f16183f4888d",
   "metadata": {},
   "outputs": [],
   "source": [
    "x = ox.copy()\n",
    "test = otest.copy()"
   ]
  },
  {
   "cell_type": "code",
   "execution_count": 4,
   "id": "33891f3e-55d7-42eb-b993-8ae0921fc7b4",
   "metadata": {},
   "outputs": [
    {
     "data": {
      "text/plain": [
       "((250000,), (250000, 30), (250000,))"
      ]
     },
     "execution_count": 4,
     "metadata": {},
     "output_type": "execute_result"
    }
   ],
   "source": [
    "(y.shape, x.shape, ids.shape)"
   ]
  },
  {
   "cell_type": "code",
   "execution_count": 5,
   "id": "8fe26659-cdab-4e30-9ffb-79d55dfa2945",
   "metadata": {},
   "outputs": [
    {
     "data": {
      "text/plain": [
       "array([ 1.60937e+02,  6.87680e+01,  1.03235e+02,  4.81460e+01,\n",
       "       -9.99000e+02, -9.99000e+02, -9.99000e+02,  3.47300e+00,\n",
       "        2.07800e+00,  1.25157e+02,  8.79000e-01,  1.41400e+00,\n",
       "       -9.99000e+02,  4.20140e+01,  2.03900e+00, -3.01100e+00,\n",
       "        3.69180e+01,  5.01000e-01,  1.03000e-01,  4.47040e+01,\n",
       "       -1.91600e+00,  1.64546e+02,  1.00000e+00,  4.62260e+01,\n",
       "        7.25000e-01,  1.15800e+00, -9.99000e+02, -9.99000e+02,\n",
       "       -9.99000e+02,  4.62260e+01])"
      ]
     },
     "execution_count": 5,
     "metadata": {},
     "output_type": "execute_result"
    }
   ],
   "source": [
    "x[1]"
   ]
  },
  {
   "cell_type": "code",
   "execution_count": 6,
   "id": "8c5b9aee-ab1a-42f8-b3f2-e881b6dab783",
   "metadata": {},
   "outputs": [],
   "source": [
    "#remove 999s, replacing by mean of column\n",
    "x[np.where(x == -999)] = np.NaN\n",
    "col_mean = np.nanmean(x, axis=0)\n",
    "inds = np.where(np.isnan(x))\n",
    "x[inds] = np.take(col_mean, inds[1])"
   ]
  },
  {
   "cell_type": "code",
   "execution_count": 7,
   "id": "457b725f-9f8e-42ab-b120-6cef935126d1",
   "metadata": {},
   "outputs": [
    {
     "data": {
      "text/plain": [
       "array([ 1.60937000e+02,  6.87680000e+01,  1.03235000e+02,  4.81460000e+01,\n",
       "        2.40373503e+00,  3.71783360e+02, -8.21688171e-01,  3.47300000e+00,\n",
       "        2.07800000e+00,  1.25157000e+02,  8.79000000e-01,  1.41400000e+00,\n",
       "        4.58289801e-01,  4.20140000e+01,  2.03900000e+00, -3.01100000e+00,\n",
       "        3.69180000e+01,  5.01000000e-01,  1.03000000e-01,  4.47040000e+01,\n",
       "       -1.91600000e+00,  1.64546000e+02,  1.00000000e+00,  4.62260000e+01,\n",
       "        7.25000000e-01,  1.15800000e+00,  5.76794744e+01, -1.18452642e-02,\n",
       "       -1.58228913e-03,  4.62260000e+01])"
      ]
     },
     "execution_count": 7,
     "metadata": {},
     "output_type": "execute_result"
    }
   ],
   "source": [
    "x[1]"
   ]
  },
  {
   "cell_type": "code",
   "execution_count": 8,
   "id": "c4afceac-8c30-4bcd-8e87-db6f0414804a",
   "metadata": {},
   "outputs": [
    {
     "data": {
      "text/plain": [
       "array([ 1.06398e+02,  6.74900e+01,  8.79490e+01,  4.99940e+01,\n",
       "       -9.99000e+02, -9.99000e+02, -9.99000e+02,  2.04800e+00,\n",
       "        2.67900e+00,  1.32865e+02,  1.77700e+00, -1.20400e+00,\n",
       "       -9.99000e+02,  3.07160e+01, -1.78400e+00,  3.05400e+00,\n",
       "        5.45740e+01, -1.69000e-01,  1.79500e+00,  2.10930e+01,\n",
       "       -1.13800e+00,  1.76251e+02,  1.00000e+00,  4.75750e+01,\n",
       "       -5.53000e-01, -8.49000e-01, -9.99000e+02, -9.99000e+02,\n",
       "       -9.99000e+02,  4.75750e+01])"
      ]
     },
     "execution_count": 8,
     "metadata": {},
     "output_type": "execute_result"
    }
   ],
   "source": [
    "test[1]"
   ]
  },
  {
   "cell_type": "code",
   "execution_count": 9,
   "id": "008231b0-7eba-4501-b182-8c29e0dda66f",
   "metadata": {},
   "outputs": [],
   "source": [
    "test[np.where(test == -999)] = np.NaN\n",
    "inds = np.where(np.isnan(test))\n",
    "test[inds] = np.take(col_mean, inds[1])"
   ]
  },
  {
   "cell_type": "code",
   "execution_count": 10,
   "id": "67b9ee2c-ff14-4d5d-870f-ff7b2827e794",
   "metadata": {},
   "outputs": [
    {
     "data": {
      "text/plain": [
       "array([ 1.06398000e+02,  6.74900000e+01,  8.79490000e+01,  4.99940000e+01,\n",
       "        2.40373503e+00,  3.71783360e+02, -8.21688171e-01,  2.04800000e+00,\n",
       "        2.67900000e+00,  1.32865000e+02,  1.77700000e+00, -1.20400000e+00,\n",
       "        4.58289801e-01,  3.07160000e+01, -1.78400000e+00,  3.05400000e+00,\n",
       "        5.45740000e+01, -1.69000000e-01,  1.79500000e+00,  2.10930000e+01,\n",
       "       -1.13800000e+00,  1.76251000e+02,  1.00000000e+00,  4.75750000e+01,\n",
       "       -5.53000000e-01, -8.49000000e-01,  5.76794744e+01, -1.18452642e-02,\n",
       "       -1.58228913e-03,  4.75750000e+01])"
      ]
     },
     "execution_count": 10,
     "metadata": {},
     "output_type": "execute_result"
    }
   ],
   "source": [
    "test[1]"
   ]
  },
  {
   "cell_type": "code",
   "execution_count": null,
   "id": "81dcb43f-f3e1-4eea-993a-3251edb7f14c",
   "metadata": {},
   "outputs": [],
   "source": []
  },
  {
   "cell_type": "code",
   "execution_count": 11,
   "id": "ec2e3c36-f4bc-44c8-8501-5b0faca35f0c",
   "metadata": {},
   "outputs": [],
   "source": [
    "def build_poly(x, degree):\n",
    "    \"\"\"polynomial basis functions for input data x, for j=0 up to j=degree.\n",
    "    \n",
    "    Args:\n",
    "        x: numpy array of shape (N,D)\n",
    "        degree: integer.\n",
    "        \n",
    "    Returns:\n",
    "        poly: numpy array of shape (N,D*d+1)\n",
    "    \"\"\"    \n",
    "    N = x.shape[0]\n",
    "    D = x.shape[1]\n",
    "    #poly_base = np.zeros((N, D*degree + 1))\n",
    "    poly_base = np.ones((N,1))\n",
    "    poly_base = np.hstack((poly_base, x.copy()))\n",
    "    for i in range(degree-1):\n",
    "        range_start = 1 + i*D\n",
    "        range_stop = 1 + (i+1)*D\n",
    "        next_power = poly_base[:,range_start:range_stop]*x\n",
    "        poly_base = np.hstack((poly_base, next_power))\n",
    "    \n",
    "    return poly_base\n",
    "\n",
    "def expand_features(x):\n",
    "    return build_poly(x, 6)"
   ]
  },
  {
   "cell_type": "code",
   "execution_count": 12,
   "id": "19c0d33c-c84a-4e3f-b3db-afb99c64b535",
   "metadata": {},
   "outputs": [],
   "source": [
    "x = expand_features(x)\n",
    "test = expand_features(test)"
   ]
  },
  {
   "cell_type": "code",
   "execution_count": 13,
   "id": "296d0798-d1e6-4345-b5c8-c8d9ab23ec34",
   "metadata": {},
   "outputs": [
    {
     "ename": "NameError",
     "evalue": "name 'trainmean' is not defined",
     "output_type": "error",
     "traceback": [
      "\u001b[0;31m---------------------------------------------------------------------------\u001b[0m",
      "\u001b[0;31mNameError\u001b[0m                                 Traceback (most recent call last)",
      "Cell \u001b[0;32mIn [13], line 1\u001b[0m\n\u001b[0;32m----> 1\u001b[0m \u001b[43mtrainmean\u001b[49m[\u001b[38;5;241m0\u001b[39m]\n",
      "\u001b[0;31mNameError\u001b[0m: name 'trainmean' is not defined"
     ]
    }
   ],
   "source": []
  },
  {
   "cell_type": "code",
   "execution_count": 14,
   "id": "94dcc253-5706-4e20-9d8f-f21be6917325",
   "metadata": {},
   "outputs": [],
   "source": [
    "#standardize\n",
    "trainmean = x.mean(axis = 0)\n",
    "trainstd  = x.std(axis = 0)\n",
    "\n",
    "#handle the case of the column of ones with std 0 : modify nothing\n",
    "trainmean[0] = 0\n",
    "trainstd[0]  = 1.0\n",
    "\n",
    "x = (x-trainmean)/trainstd\n",
    "test = (test - trainmean)/trainstd"
   ]
  },
  {
   "cell_type": "code",
   "execution_count": null,
   "id": "be69467a-92ab-4252-934d-c61c7b97bd86",
   "metadata": {},
   "outputs": [],
   "source": []
  },
  {
   "cell_type": "code",
   "execution_count": 15,
   "id": "a848a13c-5466-48a3-81bc-040d3f2fdd7f",
   "metadata": {},
   "outputs": [],
   "source": [
    "(w, loss) = least_squares(y, x)"
   ]
  },
  {
   "cell_type": "code",
   "execution_count": null,
   "id": "a91f51a9-54c0-465f-9e3a-83da85e00698",
   "metadata": {},
   "outputs": [],
   "source": []
  },
  {
   "cell_type": "code",
   "execution_count": 16,
   "id": "8efb0916-46d5-4843-a6d2-afd248828493",
   "metadata": {},
   "outputs": [],
   "source": [
    "def makeFinalPrediction(test, w):\n",
    "    res = test @ w\n",
    "    res[np.where(res < 0)] = -1\n",
    "    res[np.where(res >= 0)] = 1\n",
    "    create_csv_submission(testid, res, \"zlatan3.csv\")"
   ]
  },
  {
   "cell_type": "code",
   "execution_count": 17,
   "id": "670e8ef1-abd9-4e7f-afd4-84c05fc898f7",
   "metadata": {},
   "outputs": [],
   "source": [
    "makeFinalPrediction(test, w)"
   ]
  },
  {
   "cell_type": "code",
   "execution_count": null,
   "id": "69c8a56e-71eb-4464-b90b-9a40168a4cfb",
   "metadata": {},
   "outputs": [],
   "source": []
  }
 ],
 "metadata": {
  "kernelspec": {
   "display_name": "Python 3 (ipykernel)",
   "language": "python",
   "name": "python3"
  },
  "language_info": {
   "codemirror_mode": {
    "name": "ipython",
    "version": 3
   },
   "file_extension": ".py",
   "mimetype": "text/x-python",
   "name": "python",
   "nbconvert_exporter": "python",
   "pygments_lexer": "ipython3",
   "version": "3.9.13"
  }
 },
 "nbformat": 4,
 "nbformat_minor": 5
}
