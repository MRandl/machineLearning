{
 "cells": [
  {
   "cell_type": "code",
   "execution_count": 10,
   "id": "4a3a65fb-8def-459a-86ff-14f5cf3bc802",
   "metadata": {},
   "outputs": [],
   "source": [
    "import pandas as pd\n",
    "import numpy as np\n",
    "import random\n",
    "from implementations import *\n",
    "from helpers import load_csv_data"
   ]
  },
  {
   "cell_type": "code",
   "execution_count": 1,
   "id": "c729a004-595c-4d58-bbcb-b0f304e22f70",
   "metadata": {},
   "outputs": [],
   "source": [
    "seed = 7"
   ]
  },
  {
   "cell_type": "code",
   "execution_count": 113,
   "id": "8fb42fca-b128-48c4-891b-14abf08cb535",
   "metadata": {},
   "outputs": [],
   "source": [
    "train_labels, train_data, train_ids = load_csv_data(\"data/train.csv\")\n",
    "_, test_data, test_ids = load_csv_data(\"data/train.csv\")\n"
   ]
  },
  {
   "cell_type": "code",
   "execution_count": 119,
   "id": "ba899f82-6863-44cb-acd3-0aee5f4e52b3",
   "metadata": {},
   "outputs": [],
   "source": [
    "train_data_mean = train_data.mean(axis=0)\n",
    "train_data_std = train_data.std(axis=0)\n",
    "x = (train_data - train_data_mean)/train_data_std\n",
    "test_x = (test_data - train_data_mean)/train_data_std\n",
    "y = train_labels"
   ]
  },
  {
   "cell_type": "markdown",
   "id": "164a3dcd-aaa0-46dd-b54e-e2a6329012fd",
   "metadata": {},
   "source": [
    "functions to test different methods for regression"
   ]
  },
  {
   "cell_type": "code",
   "execution_count": 103,
   "id": "fdbe4f29-56e7-4f6d-b3d3-8e9b5b0b04b5",
   "metadata": {},
   "outputs": [],
   "source": [
    "def compute_loss(y, tx, model):\n",
    "    err = y - (tx @ model)\n",
    "    return (err.T @ err)/y.shape[0]\n",
    "\n",
    "def build_k_indices(y, k_fold, seed):\n",
    "    \"\"\"build k indices for k-fold.\n",
    "    \n",
    "    Args:\n",
    "        y:      shape=(N,)\n",
    "        k_fold: K in K-fold, i.e. the fold num\n",
    "        seed:   the random seed\n",
    "\n",
    "    Returns:\n",
    "        A 2D array of shape=(k_fold, N/k_fold) that indicates the data indices for each fold\n",
    "\n",
    "    >>> build_k_indices(np.array([1., 2., 3., 4.]), 2, 1)\n",
    "    array([[3, 2],\n",
    "           [0, 1]])\n",
    "    \"\"\"\n",
    "    num_row = y.shape[0]\n",
    "    interval = int(num_row / k_fold)\n",
    "    np.random.seed(seed)\n",
    "    indices = np.random.permutation(num_row)\n",
    "    k_indices = [indices[k * interval: (k + 1) * interval] for k in range(k_fold)]\n",
    "    return np.array(k_indices)\n",
    "\n",
    "def build_poly(x, degree):\n",
    "    \"\"\"polynomial basis functions for input data x, for j=0 up to j=degree.\n",
    "    \n",
    "    Args:\n",
    "        x: numpy array of shape (N,D)\n",
    "        degree: integer.\n",
    "        \n",
    "    Returns:\n",
    "        poly: numpy array of shape (N,D*d+1)\n",
    "    \"\"\"    \n",
    "    N = x.shape[0]\n",
    "    D = x.shape[1]\n",
    "    #poly_base = np.zeros((N, D*degree + 1))\n",
    "    poly_base = np.ones((N,1))\n",
    "    poly_base = np.hstack((poly_base, x.copy()))\n",
    "    for i in range(degree-1):\n",
    "        range_start = 1 + i*D\n",
    "        range_stop = 1 + (i+1)*D\n",
    "        next_power = poly_base[:,range_start:range_stop]*x\n",
    "        poly_base = np.hstack((poly_base, next_power))\n",
    "    \n",
    "    return poly_base\n",
    "\n",
    "def using_method(train_model, degree):\n",
    "    \"\"\"\n",
    "    Tests a certain training function using 4-fold cross-validation\n",
    "    arguments: \n",
    "    train_model: func(y, tx) -> model\n",
    "    returns: model, expected_loss\n",
    "    \"\"\"\n",
    "    tx = build_poly(x, degree)\n",
    "    k = 4\n",
    "    k_indices = build_k_indices(train_y, k, seed)\n",
    "    test_idx = k_indices[k-1]\n",
    "    train_idx = (k_indices[:k-1]).flatten()\n",
    "    model, train_loss = train_model(y[train_idx], tx[train_idx])\n",
    "    test_loss = compute_loss(y[test_idx], tx[test_idx], model)\n",
    "    return model, test_loss"
   ]
  },
  {
   "cell_type": "markdown",
   "id": "0b6ca23c-c1ac-4785-93b3-f324f71a9efe",
   "metadata": {},
   "source": [
    "Now try different methods"
   ]
  },
  {
   "cell_type": "code",
   "execution_count": 129,
   "id": "e9ebb8fe-4d8d-446e-8d55-17ec3da49300",
   "metadata": {},
   "outputs": [
    {
     "data": {
      "text/plain": [
       "(array([-4.45304550e+03,  8.64846646e-02, -2.43657221e-01, -2.41641346e-01,\n",
       "         1.18422980e-01, -1.47201046e+04,  3.79406884e-02,  1.36063684e+03,\n",
       "         2.68124417e-01, -1.35710250e-02, -2.57282077e+02, -1.87218726e-01,\n",
       "         5.38064206e-02,  2.03773787e+04,  5.00541573e+01, -1.13227276e-03,\n",
       "         1.92713269e-04,  4.93056675e+01,  4.96668781e-04,  9.14434997e-04,\n",
       "         4.75368576e-02,  2.18275446e-03, -3.79968526e-02,  3.14001763e+04,\n",
       "         1.94578616e+00, -1.63052605e+04, -2.37205201e+02,  3.06500002e-01,\n",
       "        -2.16379340e+04,  9.58845737e+02,  2.17898803e+02,  3.78063163e-02,\n",
       "         3.64114507e-02,  5.95306023e-03,  7.71002751e-03,  4.69456425e+03,\n",
       "        -1.11906469e-02, -4.39827442e+02, -5.83697764e-02,  2.23967611e-03,\n",
       "        -9.08764862e-03,  2.03170056e-02,  5.85812603e-02, -6.45995214e+03,\n",
       "        -1.78836558e-02, -3.29401946e-02, -3.03005306e-03, -2.31037648e-02,\n",
       "        -5.71582613e-02, -2.06890845e-03, -7.99635408e-03,  4.40089202e-04,\n",
       "        -1.98167846e-02, -1.00904107e+04, -8.01243499e-01,  9.99254678e+03,\n",
       "         1.45555103e+02,  1.26299696e-01,  6.91749571e+03, -3.06503967e+02,\n",
       "         1.21047216e-02]),\n",
       " 0.6455531446063242)"
      ]
     },
     "execution_count": 129,
     "metadata": {},
     "output_type": "execute_result"
    }
   ],
   "source": [
    "using_method(least_squares,2)"
   ]
  },
  {
   "cell_type": "code",
   "execution_count": 125,
   "id": "f98042de-c114-4778-aaa4-5e7e88216a11",
   "metadata": {},
   "outputs": [
    {
     "data": {
      "text/plain": [
       "(array([-2.09671375e-01,  2.52179304e+00, -2.49792019e-01, -2.47148269e-01,\n",
       "         5.97554928e-02, -6.47578197e-02,  2.49525527e-02, -6.24010231e-02,\n",
       "         1.79726427e-01, -2.75558172e-02,  1.86355251e-01, -1.32825617e-01,\n",
       "        -6.01522367e-02, -1.43557107e-02,  2.71457984e-01, -3.04615639e-03,\n",
       "        -2.65751637e-03,  1.49181685e-01,  2.53683487e-03,  2.13060272e-03,\n",
       "         3.56122485e-02,  3.36977951e-04, -4.71440315e-02, -7.04979133e-02,\n",
       "        -1.72704850e-01, -7.55140042e-02, -1.00418856e-01, -3.63921229e-03,\n",
       "        -5.42749408e-02, -5.80396618e-02,  1.24363551e-01, -1.47568827e+00,\n",
       "         4.99829627e-02, -3.51576060e-02,  4.70225804e-02, -1.96310500e-01,\n",
       "         3.35643771e-01, -1.84885922e-01, -7.09063587e-02,  1.46375025e-02,\n",
       "         5.92873971e-02,  6.21042799e-02, -2.53860873e-02, -3.93296862e-02,\n",
       "        -9.20580859e-02, -2.46562938e-02, -4.04645216e-03, -5.88045361e-02,\n",
       "        -7.45620705e-02, -5.96065680e-03,  1.15088438e-02,  1.46509386e-02,\n",
       "        -5.53887616e-02, -1.12969918e-01, -3.11026980e-01, -1.06111312e-01,\n",
       "        -1.51211430e-01, -7.16254530e-02, -1.63847940e-01, -1.76091511e-01,\n",
       "        -1.91504554e-01, -5.12007916e-01, -6.57982444e-05,  7.61169338e-03,\n",
       "        -1.03862299e-02, -1.30147718e-01, -9.38673152e-02, -9.37782692e-02,\n",
       "         1.28528506e-02, -6.81159544e-04, -3.63298190e-03, -7.34351805e-03,\n",
       "         8.27692687e-02,  2.36543073e-01,  7.90015183e-03,  1.13577108e-03,\n",
       "         1.17513019e-03,  6.53489843e-03, -1.12518156e-03, -1.46890026e-03,\n",
       "        -9.61486783e-04,  3.86664715e-04,  1.48716196e-02, -1.09475409e-02,\n",
       "        -1.06001189e-01,  3.64262222e-02, -2.42294287e-02,  1.38299850e-02,\n",
       "        -5.47581859e-02, -8.45789228e-02,  2.17068026e-02,  2.70212220e-01,\n",
       "        -1.41778851e-04, -2.43375639e-04,  6.87022024e-04, -1.32542193e-01,\n",
       "         6.87606129e-03, -3.66005829e-02,  6.04336375e-03,  1.26396257e-06,\n",
       "        -1.85511326e-05,  2.24748603e-04,  4.05308927e-02,  6.28821488e-01,\n",
       "        -1.87277421e-04, -1.59616137e-03,  4.85588577e-04, -2.09599380e-04,\n",
       "         5.15353545e-03,  1.70433773e-03, -7.38346347e-06, -5.53024337e-03,\n",
       "        -1.10232251e-03,  1.77747971e-02,  8.49512007e-02, -5.76557014e-02,\n",
       "        -1.29581782e-01,  8.28357762e-03,  2.30751199e-02, -4.14018909e-02,\n",
       "        -6.58845639e-04]),\n",
       " 0.7162069754069431)"
      ]
     },
     "execution_count": 125,
     "metadata": {},
     "output_type": "execute_result"
    }
   ],
   "source": [
    "ridge_model, ridge_loss = using_method(lambda y,tx: ridge_regression(y,tx,0.0001), 4)\n",
    "(ridge_model, ridge_loss)"
   ]
  },
  {
   "cell_type": "code",
   "execution_count": 120,
   "id": "e92c7e36-e536-40c2-b099-eed4569f3492",
   "metadata": {},
   "outputs": [
    {
     "data": {
      "text/plain": [
       "count    250000.000000\n",
       "mean         -0.313658\n",
       "std           0.527732\n",
       "min          -4.919059\n",
       "25%          -0.680911\n",
       "50%          -0.327088\n",
       "75%           0.048461\n",
       "max          52.211127\n",
       "dtype: float64"
      ]
     },
     "execution_count": 120,
     "metadata": {},
     "output_type": "execute_result"
    }
   ],
   "source": [
    "predictions = build_poly(test_x, 3) @ ridge_model\n",
    "pd.Series(predictions).describe()"
   ]
  }
 ],
 "metadata": {
  "kernelspec": {
   "display_name": "Python 3 (ipykernel)",
   "language": "python",
   "name": "python3"
  },
  "language_info": {
   "codemirror_mode": {
    "name": "ipython",
    "version": 3
   },
   "file_extension": ".py",
   "mimetype": "text/x-python",
   "name": "python",
   "nbconvert_exporter": "python",
   "pygments_lexer": "ipython3",
   "version": "3.9.13"
  }
 },
 "nbformat": 4,
 "nbformat_minor": 5
}
