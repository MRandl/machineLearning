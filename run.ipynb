{
 "cells": [
  {
   "cell_type": "code",
   "execution_count": 1,
   "id": "4a3a65fb-8def-459a-86ff-14f5cf3bc802",
   "metadata": {},
   "outputs": [],
   "source": [
    "import numpy as np\n",
    "import random\n",
    "from implementations import *\n",
    "from helpers import load_csv_data\n",
    "\n",
    "import matplotlib.pyplot as plt\n",
    "%matplotlib inline"
   ]
  },
  {
   "cell_type": "code",
   "execution_count": 2,
   "id": "c729a004-595c-4d58-bbcb-b0f304e22f70",
   "metadata": {},
   "outputs": [],
   "source": [
    "seed = 7"
   ]
  },
  {
   "cell_type": "markdown",
   "id": "007aa20d-35e5-46d1-89f4-e2037b78843a",
   "metadata": {},
   "source": [
    "## Data cleaning"
   ]
  },
  {
   "cell_type": "markdown",
   "id": "efe654ca-62c3-47f2-bd89-7c80b0476584",
   "metadata": {},
   "source": [
    "We will start by importing the data using Pandas and aim to correct and/or or remove datapoints containing un-clean data"
   ]
  },
  {
   "cell_type": "code",
   "execution_count": 2,
   "id": "e8b26c99-906f-4b47-bea4-ed8dcff0d17d",
   "metadata": {},
   "outputs": [],
   "source": [
    "import pandas as pd"
   ]
  },
  {
   "cell_type": "code",
   "execution_count": 47,
   "id": "eba9b4c2-6a15-41a0-add4-665b26e33119",
   "metadata": {},
   "outputs": [
    {
     "data": {
      "text/html": [
       "<div>\n",
       "<style scoped>\n",
       "    .dataframe tbody tr th:only-of-type {\n",
       "        vertical-align: middle;\n",
       "    }\n",
       "\n",
       "    .dataframe tbody tr th {\n",
       "        vertical-align: top;\n",
       "    }\n",
       "\n",
       "    .dataframe thead th {\n",
       "        text-align: right;\n",
       "    }\n",
       "</style>\n",
       "<table border=\"1\" class=\"dataframe\">\n",
       "  <thead>\n",
       "    <tr style=\"text-align: right;\">\n",
       "      <th></th>\n",
       "      <th>Id</th>\n",
       "      <th>Prediction</th>\n",
       "      <th>DER_mass_MMC</th>\n",
       "      <th>DER_mass_transverse_met_lep</th>\n",
       "      <th>DER_mass_vis</th>\n",
       "      <th>DER_pt_h</th>\n",
       "      <th>DER_deltaeta_jet_jet</th>\n",
       "      <th>DER_mass_jet_jet</th>\n",
       "      <th>DER_prodeta_jet_jet</th>\n",
       "      <th>DER_deltar_tau_lep</th>\n",
       "      <th>...</th>\n",
       "      <th>PRI_met_phi</th>\n",
       "      <th>PRI_met_sumet</th>\n",
       "      <th>PRI_jet_num</th>\n",
       "      <th>PRI_jet_leading_pt</th>\n",
       "      <th>PRI_jet_leading_eta</th>\n",
       "      <th>PRI_jet_leading_phi</th>\n",
       "      <th>PRI_jet_subleading_pt</th>\n",
       "      <th>PRI_jet_subleading_eta</th>\n",
       "      <th>PRI_jet_subleading_phi</th>\n",
       "      <th>PRI_jet_all_pt</th>\n",
       "    </tr>\n",
       "  </thead>\n",
       "  <tbody>\n",
       "    <tr>\n",
       "      <th>0</th>\n",
       "      <td>100000</td>\n",
       "      <td>s</td>\n",
       "      <td>138.470</td>\n",
       "      <td>51.655</td>\n",
       "      <td>97.827</td>\n",
       "      <td>27.980</td>\n",
       "      <td>0.91</td>\n",
       "      <td>124.711</td>\n",
       "      <td>2.666</td>\n",
       "      <td>3.064</td>\n",
       "      <td>...</td>\n",
       "      <td>-0.277</td>\n",
       "      <td>258.733</td>\n",
       "      <td>2</td>\n",
       "      <td>67.435</td>\n",
       "      <td>2.150</td>\n",
       "      <td>0.444</td>\n",
       "      <td>46.062</td>\n",
       "      <td>1.24</td>\n",
       "      <td>-2.475</td>\n",
       "      <td>113.497</td>\n",
       "    </tr>\n",
       "    <tr>\n",
       "      <th>1</th>\n",
       "      <td>100001</td>\n",
       "      <td>b</td>\n",
       "      <td>160.937</td>\n",
       "      <td>68.768</td>\n",
       "      <td>103.235</td>\n",
       "      <td>48.146</td>\n",
       "      <td>-999.00</td>\n",
       "      <td>-999.000</td>\n",
       "      <td>-999.000</td>\n",
       "      <td>3.473</td>\n",
       "      <td>...</td>\n",
       "      <td>-1.916</td>\n",
       "      <td>164.546</td>\n",
       "      <td>1</td>\n",
       "      <td>46.226</td>\n",
       "      <td>0.725</td>\n",
       "      <td>1.158</td>\n",
       "      <td>-999.000</td>\n",
       "      <td>-999.00</td>\n",
       "      <td>-999.000</td>\n",
       "      <td>46.226</td>\n",
       "    </tr>\n",
       "    <tr>\n",
       "      <th>2</th>\n",
       "      <td>100002</td>\n",
       "      <td>b</td>\n",
       "      <td>-999.000</td>\n",
       "      <td>162.172</td>\n",
       "      <td>125.953</td>\n",
       "      <td>35.635</td>\n",
       "      <td>-999.00</td>\n",
       "      <td>-999.000</td>\n",
       "      <td>-999.000</td>\n",
       "      <td>3.148</td>\n",
       "      <td>...</td>\n",
       "      <td>-2.186</td>\n",
       "      <td>260.414</td>\n",
       "      <td>1</td>\n",
       "      <td>44.251</td>\n",
       "      <td>2.053</td>\n",
       "      <td>-2.028</td>\n",
       "      <td>-999.000</td>\n",
       "      <td>-999.00</td>\n",
       "      <td>-999.000</td>\n",
       "      <td>44.251</td>\n",
       "    </tr>\n",
       "    <tr>\n",
       "      <th>3</th>\n",
       "      <td>100003</td>\n",
       "      <td>b</td>\n",
       "      <td>143.905</td>\n",
       "      <td>81.417</td>\n",
       "      <td>80.943</td>\n",
       "      <td>0.414</td>\n",
       "      <td>-999.00</td>\n",
       "      <td>-999.000</td>\n",
       "      <td>-999.000</td>\n",
       "      <td>3.310</td>\n",
       "      <td>...</td>\n",
       "      <td>0.060</td>\n",
       "      <td>86.062</td>\n",
       "      <td>0</td>\n",
       "      <td>-999.000</td>\n",
       "      <td>-999.000</td>\n",
       "      <td>-999.000</td>\n",
       "      <td>-999.000</td>\n",
       "      <td>-999.00</td>\n",
       "      <td>-999.000</td>\n",
       "      <td>0.000</td>\n",
       "    </tr>\n",
       "    <tr>\n",
       "      <th>4</th>\n",
       "      <td>100004</td>\n",
       "      <td>b</td>\n",
       "      <td>175.864</td>\n",
       "      <td>16.915</td>\n",
       "      <td>134.805</td>\n",
       "      <td>16.405</td>\n",
       "      <td>-999.00</td>\n",
       "      <td>-999.000</td>\n",
       "      <td>-999.000</td>\n",
       "      <td>3.891</td>\n",
       "      <td>...</td>\n",
       "      <td>-0.871</td>\n",
       "      <td>53.131</td>\n",
       "      <td>0</td>\n",
       "      <td>-999.000</td>\n",
       "      <td>-999.000</td>\n",
       "      <td>-999.000</td>\n",
       "      <td>-999.000</td>\n",
       "      <td>-999.00</td>\n",
       "      <td>-999.000</td>\n",
       "      <td>0.000</td>\n",
       "    </tr>\n",
       "  </tbody>\n",
       "</table>\n",
       "<p>5 rows × 32 columns</p>\n",
       "</div>"
      ],
      "text/plain": [
       "       Id Prediction  DER_mass_MMC  DER_mass_transverse_met_lep  DER_mass_vis  \\\n",
       "0  100000          s       138.470                       51.655        97.827   \n",
       "1  100001          b       160.937                       68.768       103.235   \n",
       "2  100002          b      -999.000                      162.172       125.953   \n",
       "3  100003          b       143.905                       81.417        80.943   \n",
       "4  100004          b       175.864                       16.915       134.805   \n",
       "\n",
       "   DER_pt_h  DER_deltaeta_jet_jet  DER_mass_jet_jet  DER_prodeta_jet_jet  \\\n",
       "0    27.980                  0.91           124.711                2.666   \n",
       "1    48.146               -999.00          -999.000             -999.000   \n",
       "2    35.635               -999.00          -999.000             -999.000   \n",
       "3     0.414               -999.00          -999.000             -999.000   \n",
       "4    16.405               -999.00          -999.000             -999.000   \n",
       "\n",
       "   DER_deltar_tau_lep  ...  PRI_met_phi  PRI_met_sumet  PRI_jet_num  \\\n",
       "0               3.064  ...       -0.277        258.733            2   \n",
       "1               3.473  ...       -1.916        164.546            1   \n",
       "2               3.148  ...       -2.186        260.414            1   \n",
       "3               3.310  ...        0.060         86.062            0   \n",
       "4               3.891  ...       -0.871         53.131            0   \n",
       "\n",
       "   PRI_jet_leading_pt  PRI_jet_leading_eta  PRI_jet_leading_phi  \\\n",
       "0              67.435                2.150                0.444   \n",
       "1              46.226                0.725                1.158   \n",
       "2              44.251                2.053               -2.028   \n",
       "3            -999.000             -999.000             -999.000   \n",
       "4            -999.000             -999.000             -999.000   \n",
       "\n",
       "   PRI_jet_subleading_pt  PRI_jet_subleading_eta  PRI_jet_subleading_phi  \\\n",
       "0                 46.062                    1.24                  -2.475   \n",
       "1               -999.000                 -999.00                -999.000   \n",
       "2               -999.000                 -999.00                -999.000   \n",
       "3               -999.000                 -999.00                -999.000   \n",
       "4               -999.000                 -999.00                -999.000   \n",
       "\n",
       "   PRI_jet_all_pt  \n",
       "0         113.497  \n",
       "1          46.226  \n",
       "2          44.251  \n",
       "3           0.000  \n",
       "4           0.000  \n",
       "\n",
       "[5 rows x 32 columns]"
      ]
     },
     "execution_count": 47,
     "metadata": {},
     "output_type": "execute_result"
    }
   ],
   "source": [
    "df = pd.read_csv('data/train.csv')\n",
    "df.head()"
   ]
  },
  {
   "cell_type": "code",
   "execution_count": 48,
   "id": "a633afe9-67c1-4cdb-b5ec-bfd5ca5eb4f4",
   "metadata": {},
   "outputs": [
    {
     "data": {
      "text/html": [
       "<div>\n",
       "<style scoped>\n",
       "    .dataframe tbody tr th:only-of-type {\n",
       "        vertical-align: middle;\n",
       "    }\n",
       "\n",
       "    .dataframe tbody tr th {\n",
       "        vertical-align: top;\n",
       "    }\n",
       "\n",
       "    .dataframe thead th {\n",
       "        text-align: right;\n",
       "    }\n",
       "</style>\n",
       "<table border=\"1\" class=\"dataframe\">\n",
       "  <thead>\n",
       "    <tr style=\"text-align: right;\">\n",
       "      <th></th>\n",
       "      <th>Id</th>\n",
       "      <th>DER_mass_MMC</th>\n",
       "      <th>DER_mass_transverse_met_lep</th>\n",
       "      <th>DER_mass_vis</th>\n",
       "      <th>DER_pt_h</th>\n",
       "      <th>DER_deltaeta_jet_jet</th>\n",
       "      <th>DER_mass_jet_jet</th>\n",
       "      <th>DER_prodeta_jet_jet</th>\n",
       "      <th>DER_deltar_tau_lep</th>\n",
       "      <th>DER_pt_tot</th>\n",
       "      <th>...</th>\n",
       "      <th>PRI_met_phi</th>\n",
       "      <th>PRI_met_sumet</th>\n",
       "      <th>PRI_jet_num</th>\n",
       "      <th>PRI_jet_leading_pt</th>\n",
       "      <th>PRI_jet_leading_eta</th>\n",
       "      <th>PRI_jet_leading_phi</th>\n",
       "      <th>PRI_jet_subleading_pt</th>\n",
       "      <th>PRI_jet_subleading_eta</th>\n",
       "      <th>PRI_jet_subleading_phi</th>\n",
       "      <th>PRI_jet_all_pt</th>\n",
       "    </tr>\n",
       "  </thead>\n",
       "  <tbody>\n",
       "    <tr>\n",
       "      <th>count</th>\n",
       "      <td>250000.000000</td>\n",
       "      <td>250000.000000</td>\n",
       "      <td>250000.000000</td>\n",
       "      <td>250000.000000</td>\n",
       "      <td>250000.000000</td>\n",
       "      <td>250000.000000</td>\n",
       "      <td>250000.000000</td>\n",
       "      <td>250000.000000</td>\n",
       "      <td>250000.000000</td>\n",
       "      <td>250000.000000</td>\n",
       "      <td>...</td>\n",
       "      <td>250000.000000</td>\n",
       "      <td>250000.000000</td>\n",
       "      <td>250000.000000</td>\n",
       "      <td>250000.000000</td>\n",
       "      <td>250000.000000</td>\n",
       "      <td>250000.000000</td>\n",
       "      <td>250000.000000</td>\n",
       "      <td>250000.000000</td>\n",
       "      <td>250000.000000</td>\n",
       "      <td>250000.000000</td>\n",
       "    </tr>\n",
       "    <tr>\n",
       "      <th>mean</th>\n",
       "      <td>224999.500000</td>\n",
       "      <td>-49.023079</td>\n",
       "      <td>49.239819</td>\n",
       "      <td>81.181982</td>\n",
       "      <td>57.895962</td>\n",
       "      <td>-708.420675</td>\n",
       "      <td>-601.237051</td>\n",
       "      <td>-709.356603</td>\n",
       "      <td>2.373100</td>\n",
       "      <td>18.917332</td>\n",
       "      <td>...</td>\n",
       "      <td>-0.010119</td>\n",
       "      <td>209.797178</td>\n",
       "      <td>0.979176</td>\n",
       "      <td>-348.329567</td>\n",
       "      <td>-399.254314</td>\n",
       "      <td>-399.259788</td>\n",
       "      <td>-692.381204</td>\n",
       "      <td>-709.121609</td>\n",
       "      <td>-709.118631</td>\n",
       "      <td>73.064591</td>\n",
       "    </tr>\n",
       "    <tr>\n",
       "      <th>std</th>\n",
       "      <td>72168.927986</td>\n",
       "      <td>406.345647</td>\n",
       "      <td>35.344886</td>\n",
       "      <td>40.828691</td>\n",
       "      <td>63.655682</td>\n",
       "      <td>454.480565</td>\n",
       "      <td>657.972302</td>\n",
       "      <td>453.019877</td>\n",
       "      <td>0.782911</td>\n",
       "      <td>22.273494</td>\n",
       "      <td>...</td>\n",
       "      <td>1.812223</td>\n",
       "      <td>126.499506</td>\n",
       "      <td>0.977426</td>\n",
       "      <td>532.962789</td>\n",
       "      <td>489.338286</td>\n",
       "      <td>489.333883</td>\n",
       "      <td>479.875496</td>\n",
       "      <td>453.384624</td>\n",
       "      <td>453.389017</td>\n",
       "      <td>98.015662</td>\n",
       "    </tr>\n",
       "    <tr>\n",
       "      <th>min</th>\n",
       "      <td>100000.000000</td>\n",
       "      <td>-999.000000</td>\n",
       "      <td>0.000000</td>\n",
       "      <td>6.329000</td>\n",
       "      <td>0.000000</td>\n",
       "      <td>-999.000000</td>\n",
       "      <td>-999.000000</td>\n",
       "      <td>-999.000000</td>\n",
       "      <td>0.208000</td>\n",
       "      <td>0.000000</td>\n",
       "      <td>...</td>\n",
       "      <td>-3.142000</td>\n",
       "      <td>13.678000</td>\n",
       "      <td>0.000000</td>\n",
       "      <td>-999.000000</td>\n",
       "      <td>-999.000000</td>\n",
       "      <td>-999.000000</td>\n",
       "      <td>-999.000000</td>\n",
       "      <td>-999.000000</td>\n",
       "      <td>-999.000000</td>\n",
       "      <td>0.000000</td>\n",
       "    </tr>\n",
       "    <tr>\n",
       "      <th>25%</th>\n",
       "      <td>162499.750000</td>\n",
       "      <td>78.100750</td>\n",
       "      <td>19.241000</td>\n",
       "      <td>59.388750</td>\n",
       "      <td>14.068750</td>\n",
       "      <td>-999.000000</td>\n",
       "      <td>-999.000000</td>\n",
       "      <td>-999.000000</td>\n",
       "      <td>1.810000</td>\n",
       "      <td>2.841000</td>\n",
       "      <td>...</td>\n",
       "      <td>-1.575000</td>\n",
       "      <td>123.017500</td>\n",
       "      <td>0.000000</td>\n",
       "      <td>-999.000000</td>\n",
       "      <td>-999.000000</td>\n",
       "      <td>-999.000000</td>\n",
       "      <td>-999.000000</td>\n",
       "      <td>-999.000000</td>\n",
       "      <td>-999.000000</td>\n",
       "      <td>0.000000</td>\n",
       "    </tr>\n",
       "    <tr>\n",
       "      <th>50%</th>\n",
       "      <td>224999.500000</td>\n",
       "      <td>105.012000</td>\n",
       "      <td>46.524000</td>\n",
       "      <td>73.752000</td>\n",
       "      <td>38.467500</td>\n",
       "      <td>-999.000000</td>\n",
       "      <td>-999.000000</td>\n",
       "      <td>-999.000000</td>\n",
       "      <td>2.491500</td>\n",
       "      <td>12.315500</td>\n",
       "      <td>...</td>\n",
       "      <td>-0.024000</td>\n",
       "      <td>179.739000</td>\n",
       "      <td>1.000000</td>\n",
       "      <td>38.960000</td>\n",
       "      <td>-1.872000</td>\n",
       "      <td>-2.093000</td>\n",
       "      <td>-999.000000</td>\n",
       "      <td>-999.000000</td>\n",
       "      <td>-999.000000</td>\n",
       "      <td>40.512500</td>\n",
       "    </tr>\n",
       "    <tr>\n",
       "      <th>75%</th>\n",
       "      <td>287499.250000</td>\n",
       "      <td>130.606250</td>\n",
       "      <td>73.598000</td>\n",
       "      <td>92.259000</td>\n",
       "      <td>79.169000</td>\n",
       "      <td>0.490000</td>\n",
       "      <td>83.446000</td>\n",
       "      <td>-4.593000</td>\n",
       "      <td>2.961000</td>\n",
       "      <td>27.591000</td>\n",
       "      <td>...</td>\n",
       "      <td>1.561000</td>\n",
       "      <td>263.379250</td>\n",
       "      <td>2.000000</td>\n",
       "      <td>75.349000</td>\n",
       "      <td>0.433000</td>\n",
       "      <td>0.503000</td>\n",
       "      <td>33.703000</td>\n",
       "      <td>-2.457000</td>\n",
       "      <td>-2.275000</td>\n",
       "      <td>109.933750</td>\n",
       "    </tr>\n",
       "    <tr>\n",
       "      <th>max</th>\n",
       "      <td>349999.000000</td>\n",
       "      <td>1192.026000</td>\n",
       "      <td>690.075000</td>\n",
       "      <td>1349.351000</td>\n",
       "      <td>2834.999000</td>\n",
       "      <td>8.503000</td>\n",
       "      <td>4974.979000</td>\n",
       "      <td>16.690000</td>\n",
       "      <td>5.684000</td>\n",
       "      <td>2834.999000</td>\n",
       "      <td>...</td>\n",
       "      <td>3.142000</td>\n",
       "      <td>2003.976000</td>\n",
       "      <td>3.000000</td>\n",
       "      <td>1120.573000</td>\n",
       "      <td>4.499000</td>\n",
       "      <td>3.141000</td>\n",
       "      <td>721.456000</td>\n",
       "      <td>4.500000</td>\n",
       "      <td>3.142000</td>\n",
       "      <td>1633.433000</td>\n",
       "    </tr>\n",
       "  </tbody>\n",
       "</table>\n",
       "<p>8 rows × 31 columns</p>\n",
       "</div>"
      ],
      "text/plain": [
       "                  Id   DER_mass_MMC  DER_mass_transverse_met_lep  \\\n",
       "count  250000.000000  250000.000000                250000.000000   \n",
       "mean   224999.500000     -49.023079                    49.239819   \n",
       "std     72168.927986     406.345647                    35.344886   \n",
       "min    100000.000000    -999.000000                     0.000000   \n",
       "25%    162499.750000      78.100750                    19.241000   \n",
       "50%    224999.500000     105.012000                    46.524000   \n",
       "75%    287499.250000     130.606250                    73.598000   \n",
       "max    349999.000000    1192.026000                   690.075000   \n",
       "\n",
       "        DER_mass_vis       DER_pt_h  DER_deltaeta_jet_jet  DER_mass_jet_jet  \\\n",
       "count  250000.000000  250000.000000         250000.000000     250000.000000   \n",
       "mean       81.181982      57.895962           -708.420675       -601.237051   \n",
       "std        40.828691      63.655682            454.480565        657.972302   \n",
       "min         6.329000       0.000000           -999.000000       -999.000000   \n",
       "25%        59.388750      14.068750           -999.000000       -999.000000   \n",
       "50%        73.752000      38.467500           -999.000000       -999.000000   \n",
       "75%        92.259000      79.169000              0.490000         83.446000   \n",
       "max      1349.351000    2834.999000              8.503000       4974.979000   \n",
       "\n",
       "       DER_prodeta_jet_jet  DER_deltar_tau_lep     DER_pt_tot  ...  \\\n",
       "count        250000.000000       250000.000000  250000.000000  ...   \n",
       "mean           -709.356603            2.373100      18.917332  ...   \n",
       "std             453.019877            0.782911      22.273494  ...   \n",
       "min            -999.000000            0.208000       0.000000  ...   \n",
       "25%            -999.000000            1.810000       2.841000  ...   \n",
       "50%            -999.000000            2.491500      12.315500  ...   \n",
       "75%              -4.593000            2.961000      27.591000  ...   \n",
       "max              16.690000            5.684000    2834.999000  ...   \n",
       "\n",
       "         PRI_met_phi  PRI_met_sumet    PRI_jet_num  PRI_jet_leading_pt  \\\n",
       "count  250000.000000  250000.000000  250000.000000       250000.000000   \n",
       "mean       -0.010119     209.797178       0.979176         -348.329567   \n",
       "std         1.812223     126.499506       0.977426          532.962789   \n",
       "min        -3.142000      13.678000       0.000000         -999.000000   \n",
       "25%        -1.575000     123.017500       0.000000         -999.000000   \n",
       "50%        -0.024000     179.739000       1.000000           38.960000   \n",
       "75%         1.561000     263.379250       2.000000           75.349000   \n",
       "max         3.142000    2003.976000       3.000000         1120.573000   \n",
       "\n",
       "       PRI_jet_leading_eta  PRI_jet_leading_phi  PRI_jet_subleading_pt  \\\n",
       "count        250000.000000        250000.000000          250000.000000   \n",
       "mean           -399.254314          -399.259788            -692.381204   \n",
       "std             489.338286           489.333883             479.875496   \n",
       "min            -999.000000          -999.000000            -999.000000   \n",
       "25%            -999.000000          -999.000000            -999.000000   \n",
       "50%              -1.872000            -2.093000            -999.000000   \n",
       "75%               0.433000             0.503000              33.703000   \n",
       "max               4.499000             3.141000             721.456000   \n",
       "\n",
       "       PRI_jet_subleading_eta  PRI_jet_subleading_phi  PRI_jet_all_pt  \n",
       "count           250000.000000           250000.000000   250000.000000  \n",
       "mean              -709.121609             -709.118631       73.064591  \n",
       "std                453.384624              453.389017       98.015662  \n",
       "min               -999.000000             -999.000000        0.000000  \n",
       "25%               -999.000000             -999.000000        0.000000  \n",
       "50%               -999.000000             -999.000000       40.512500  \n",
       "75%                 -2.457000               -2.275000      109.933750  \n",
       "max                  4.500000                3.142000     1633.433000  \n",
       "\n",
       "[8 rows x 31 columns]"
      ]
     },
     "execution_count": 48,
     "metadata": {},
     "output_type": "execute_result"
    }
   ],
   "source": [
    "df.describe()"
   ]
  },
  {
   "cell_type": "code",
   "execution_count": 49,
   "id": "2df7d0f9-adea-45eb-a3ba-25baed7ee361",
   "metadata": {},
   "outputs": [
    {
     "name": "stdout",
     "output_type": "stream",
     "text": [
      "Entire dataset contains 250000 rows and 32 columns\n"
     ]
    }
   ],
   "source": [
    "print(f'Entire dataset contains {df.shape[0]} rows and {df.shape[1]} columns')"
   ]
  },
  {
   "cell_type": "code",
   "execution_count": null,
   "id": "8e7b7d6c-65fb-4dc3-9c9b-fe8a84ca9405",
   "metadata": {},
   "outputs": [],
   "source": []
  },
  {
   "cell_type": "markdown",
   "id": "73f298e3-e99b-4624-b40c-bd79c768ed1c",
   "metadata": {},
   "source": [
    "Looking at the previous `df.head()` and `df.describe()`, we distinguish a great amount of dummy values set to `-999`, let's clear them"
   ]
  },
  {
   "cell_type": "code",
   "execution_count": null,
   "id": "3ed1f5f6-ce65-455c-b718-2ccffd2527ad",
   "metadata": {},
   "outputs": [],
   "source": [
    "DUMMY_VALUE: int = -999"
   ]
  },
  {
   "cell_type": "code",
   "execution_count": 50,
   "id": "a5843249-d4cf-47d4-97e9-34e23b295742",
   "metadata": {},
   "outputs": [
    {
     "name": "stdout",
     "output_type": "stream",
     "text": [
      " 38114 dummy values in column \"DER_mass_MMC\"\n",
      "177457 dummy values in column \"DER_deltaeta_jet_jet\"\n",
      "177457 dummy values in column \"DER_mass_jet_jet\"\n",
      "177457 dummy values in column \"DER_prodeta_jet_jet\"\n",
      "177457 dummy values in column \"DER_lep_eta_centrality\"\n",
      " 99913 dummy values in column \"PRI_jet_leading_pt\"\n",
      " 99913 dummy values in column \"PRI_jet_leading_eta\"\n",
      " 99913 dummy values in column \"PRI_jet_leading_phi\"\n",
      "177457 dummy values in column \"PRI_jet_subleading_pt\"\n",
      "177457 dummy values in column \"PRI_jet_subleading_eta\"\n",
      "177457 dummy values in column \"PRI_jet_subleading_phi\"\n"
     ]
    }
   ],
   "source": [
    "for col in df.columns:\n",
    "    n = df[df[col] == DUMMY_VALUE].shape[0]\n",
    "    if n != 0:\n",
    "        print(f'{n:6d} dummy values in column \"{col}\"')"
   ]
  },
  {
   "cell_type": "code",
   "execution_count": 51,
   "id": "13ce174b-9b0d-4e06-9d45-7fd00ed86691",
   "metadata": {},
   "outputs": [],
   "source": [
    "for col in df.columns:\n",
    "    df = df[df[col] != DUMMY_VALUE]"
   ]
  },
  {
   "cell_type": "code",
   "execution_count": 52,
   "id": "b9fa1c0c-c38c-4d86-9728-fdd50f4e762c",
   "metadata": {},
   "outputs": [
    {
     "name": "stdout",
     "output_type": "stream",
     "text": [
      "After the removal of dummy values, the dataset contains 68114 rows\n"
     ]
    }
   ],
   "source": [
    "print(f'After the removal of dummy values, the dataset contains {df.shape[0]} rows')"
   ]
  },
  {
   "cell_type": "code",
   "execution_count": 53,
   "id": "494230c1-907f-4477-9141-6a419341e55e",
   "metadata": {},
   "outputs": [
    {
     "data": {
      "image/png": "[encoded data removed]",
      "text/plain": [
       "<Figure size 1152x1296 with 32 Axes>"
      ]
     },
     "metadata": {
      "needs_background": "light"
     },
     "output_type": "display_data"
    }
   ],
   "source": [
    "excluded = ['Prediction', 'Id']\n",
    "\n",
    "N_COLS = 4\n",
    "N_ROWS = int(np.ceil((df.shape[1] - len(excluded)) / N_COLS))\n",
    "             \n",
    "fig, axs = plt.subplots(nrows = N_ROWS, ncols = N_COLS, figsize = (16, 18))\n",
    "\n",
    "\n",
    "idx = 0\n",
    "\n",
    "for col in df.columns:\n",
    "    if col not in excluded:\n",
    "        subplt = axs[int(idx / N_COLS), idx % N_COLS]\n",
    "        subplt.hist(df[col], range = [0, int(df[col].max())], bins = 25, log=True)\n",
    "        subplt.set_title(f'column \"{col}\"')\n",
    "        idx += 1\n",
    "\n",
    "fig.text(0.42, 1, 'Distribution (logarithmic scale) for each feature of the training set')\n",
    "fig.text(0.015, 0.5, 'Number of data points', rotation = 90)\n",
    "\n",
    "fig.tight_layout()\n"
   ]
  },
  {
   "cell_type": "markdown",
   "id": "bcbb1c65-6127-424c-aec4-35b795f0e0a4",
   "metadata": {},
   "source": [
    "Looking at the previous set of graphs, we can see some columns containing clear outliers"
   ]
  },
  {
   "cell_type": "code",
   "execution_count": 54,
   "id": "2c2c80ba-c064-4c96-a79c-ef58139e3ee1",
   "metadata": {},
   "outputs": [
    {
     "name": "stdout",
     "output_type": "stream",
     "text": [
      "Removed a total of 4 outliers\n"
     ]
    }
   ],
   "source": [
    "# Removing outliers\n",
    "old_size = df.shape[0]\n",
    "\n",
    "df = df[\n",
    "      (df['DER_mass_transverse_met_lep'] < 500)\n",
    "    & (df['DER_pt_h'] < 900)\n",
    "    & (df['DER_pt_tot'] < 400)\n",
    "    & (df['PRI_tau_pt'] < 500)\n",
    "    & (df['PRI_met'] < 800)\n",
    "    & (df['PRI_jet_leading_pt'] < 900)\n",
    "]\n",
    "\n",
    "print(f'Removed a total of {old_size - df.shape[0]} outliers')"
   ]
  },
  {
   "cell_type": "markdown",
   "id": "25f68753-19fc-4e88-8e13-34b8e784cd20",
   "metadata": {},
   "source": [
    "Finally we look at whether or not the data is well balanced. We do not want a training dataset containing predictions only for a subset of the possible output (e.g. training dataset only predicting the input $x$ to be of class `0` $\\forall x$)"
   ]
  },
  {
   "cell_type": "code",
   "execution_count": 55,
   "id": "340ecadf-ac35-4846-ba8c-6ae28481af46",
   "metadata": {},
   "outputs": [
    {
     "data": {
      "text/plain": [
       "<AxesSubplot:>"
      ]
     },
     "execution_count": 55,
     "metadata": {},
     "output_type": "execute_result"
    },
    {
     "data": {
      "image/png": "[encoded data removed]",
      "text/plain": [
       "<Figure size 432x288 with 1 Axes>"
      ]
     },
     "metadata": {
      "needs_background": "light"
     },
     "output_type": "display_data"
    }
   ],
   "source": [
    "df.Prediction.hist()"
   ]
  },
  {
   "cell_type": "code",
   "execution_count": null,
   "id": "4f6c78ee-d5fd-420e-b7cf-b1777256fc0d",
   "metadata": {},
   "outputs": [],
   "source": []
  },
  {
   "cell_type": "code",
   "execution_count": 56,
   "id": "fa98d207-c60a-4f68-8d0d-6431f8df65fc",
   "metadata": {},
   "outputs": [],
   "source": [
    "df.to_csv('data/train_sanitized_jet_23.csv')"
   ]
  },
  {
   "cell_type": "code",
   "execution_count": null,
   "id": "0b494810-9db7-492e-b29a-cb9ca3da954a",
   "metadata": {},
   "outputs": [],
   "source": []
  },
  {
   "cell_type": "code",
   "execution_count": 57,
   "id": "7091f516-325b-430d-af7c-40a8053056fc",
   "metadata": {},
   "outputs": [
    {
     "data": {
      "text/plain": [
       "2    47425\n",
       "3    20685\n",
       "Name: PRI_jet_num, dtype: int64"
      ]
     },
     "execution_count": 57,
     "metadata": {},
     "output_type": "execute_result"
    }
   ],
   "source": [
    "df.PRI_jet_num.value_counts()"
   ]
  },
  {
   "cell_type": "code",
   "execution_count": 59,
   "id": "1981f967-b797-4eb6-bd9e-94fe6e9d28f7",
   "metadata": {},
   "outputs": [],
   "source": [
    "# TODO note: comme on peut voir, retirer les -999 équivaut basiquement à retirer les datapoints quand \n",
    "# jet_num = 0 ou jet_num = 1, ce qui eest pas ouf"
   ]
  },
  {
   "cell_type": "code",
   "execution_count": 76,
   "id": "9bf84598-b936-44a0-b54e-fc5f3497f0ff",
   "metadata": {},
   "outputs": [],
   "source": [
    "df = pd.read_csv('data/train.csv')"
   ]
  },
  {
   "cell_type": "code",
   "execution_count": 77,
   "id": "229bc534-acae-45b0-aae6-5a438fe937ae",
   "metadata": {},
   "outputs": [],
   "source": [
    "df = df[df.PRI_jet_num <= 1]\n",
    "df = df[[col for col in df.columns if (DUMMY_VALUE not in df[col].unique())]] # keep columns that dont have -999's"
   ]
  },
  {
   "cell_type": "code",
   "execution_count": null,
   "id": "c111b6e3-a027-4cb8-bc07-ee4871756376",
   "metadata": {},
   "outputs": [],
   "source": [
    "df.to_csv('data/train_sanitized_jet_01.csv')"
   ]
  },
  {
   "cell_type": "code",
   "execution_count": null,
   "id": "26097c62-b012-43e0-8958-fb3718e9977f",
   "metadata": {},
   "outputs": [],
   "source": []
  },
  {
   "cell_type": "code",
   "execution_count": null,
   "id": "993d69cd-6475-4aa5-9452-e1298070f4c5",
   "metadata": {},
   "outputs": [],
   "source": []
  },
  {
   "cell_type": "code",
   "execution_count": 3,
   "id": "e53a2d85-4c8e-4bdb-8e33-e7901b46fc77",
   "metadata": {},
   "outputs": [],
   "source": [
    "######################### VERSION NUMPY"
   ]
  },
  {
   "cell_type": "code",
   "execution_count": 4,
   "id": "ce100a66-315e-4108-85bf-2c1f4608fd2d",
   "metadata": {},
   "outputs": [
    {
     "name": "stdout",
     "output_type": "stream",
     "text": [
      "Entire dataset contains 250000 rows and 32 columns\n"
     ]
    }
   ],
   "source": [
    "labels, data, ids = load_csv_data(\"data/train.csv\")\n",
    "df = np.vstack((ids.T, labels.T, data.T)).T\n",
    "col_names = np.loadtxt(\"data/train.csv\", delimiter=\",\", dtype=str, max_rows=1)\n",
    "\n",
    "meta_name = col_names[:2]\n",
    "data_name = col_names[2:]\n",
    "\n",
    "print(f'Entire dataset contains {df.shape[0]} rows and {df.shape[1]} columns')"
   ]
  },
  {
   "cell_type": "code",
   "execution_count": 5,
   "id": "e70a8637-19af-4e7d-8aae-8bea2f636923",
   "metadata": {},
   "outputs": [],
   "source": [
    "DUMMY_VALUE: int = -999"
   ]
  },
  {
   "cell_type": "code",
   "execution_count": 6,
   "id": "9be6d45f-7483-43ce-9bc8-6c9541b26dfb",
   "metadata": {},
   "outputs": [
    {
     "name": "stdout",
     "output_type": "stream",
     "text": [
      "After the removal of dummy values, the dataset contains 68114 rows\n"
     ]
    }
   ],
   "source": [
    "for idx, name in enumerate(data_name):\n",
    "    df = df[df[:,2+idx] != DUMMY_VALUE]\n",
    "    \n",
    "print(f'After the removal of dummy values, the dataset contains {df.shape[0]} rows')"
   ]
  },
  {
   "cell_type": "code",
   "execution_count": 7,
   "id": "8709ee65-b2ba-4f78-af0c-69002eacecd2",
   "metadata": {},
   "outputs": [
    {
     "data": {
      "image/png": "[encoded data removed]",
      "text/plain": [
       "<Figure size 1152x1296 with 32 Axes>"
      ]
     },
     "metadata": {
      "needs_background": "light"
     },
     "output_type": "display_data"
    }
   ],
   "source": [
    "N_COLS = 4\n",
    "N_ROWS = int(np.ceil(data_name.shape[0] / N_COLS))\n",
    "             \n",
    "fig, axs = plt.subplots(nrows = N_ROWS, ncols = N_COLS, figsize = (16, 18))\n",
    "\n",
    "for idx, col in enumerate(data_name):\n",
    "    subplt = axs[int(idx / N_COLS), idx % N_COLS]\n",
    "    subplt.hist(df[:,2+idx], range = [0, int(df[:,2+idx].max())], bins = 25, log=True)\n",
    "    subplt.set_title(f'column \"{col}\"')\n",
    "\n",
    "fig.text(0.42, 1, 'Distribution (logarithmic scale) for each feature of the training set')\n",
    "fig.text(0.015, 0.5, 'Number of data points', rotation = 90)\n",
    "\n",
    "fig.tight_layout()\n"
   ]
  },
  {
   "cell_type": "markdown",
   "id": "cdfd6d60-77f9-457d-a409-de8c8e4bb3a9",
   "metadata": {},
   "source": [
    "Looking at the previous set of graphs, we can see some columns containing clear outliers"
   ]
  },
  {
   "cell_type": "code",
   "execution_count": 8,
   "id": "c4922fcf-7e9b-4305-80a2-d285d1078d7c",
   "metadata": {},
   "outputs": [
    {
     "name": "stdout",
     "output_type": "stream",
     "text": [
      "Removed a total of 4 outliers\n"
     ]
    }
   ],
   "source": [
    "# Removing outliers\n",
    "old_size = df.shape[0]\n",
    "\n",
    "def col_index(col_name: str) -> int:\n",
    "    return np.where(col_names == col_name)[0][0]\n",
    "\n",
    "df = df[\n",
    "      (df[:,col_index('DER_mass_transverse_met_lep')] < 500)\n",
    "    & (df[:,col_index('DER_pt_h')] < 900)\n",
    "    & (df[:,col_index('DER_pt_tot')] < 400)\n",
    "    & (df[:,col_index('PRI_tau_pt')] < 500)\n",
    "    & (df[:,col_index('PRI_met')] < 800)\n",
    "    & (df[:,col_index('PRI_jet_leading_pt')] < 900)\n",
    "]\n",
    "\n",
    "print(f'Removed a total of {old_size - df.shape[0]} outliers')"
   ]
  },
  {
   "cell_type": "markdown",
   "id": "ba032c03-8846-4a88-af0e-ad5071550360",
   "metadata": {},
   "source": [
    "Finally we look at whether or not the data is well balanced. We do not want a training dataset containing predictions only for a subset of the possible output (e.g. training dataset only predicting the input $x$ to be of class `0` $\\forall x$)"
   ]
  },
  {
   "cell_type": "code",
   "execution_count": 10,
   "id": "9862ca6d-6e36-46cc-94d6-91dfe8908dfd",
   "metadata": {},
   "outputs": [
    {
     "data": {
      "image/png": "[encoded data removed]",
      "text/plain": [
       "<Figure size 432x288 with 1 Axes>"
      ]
     },
     "metadata": {
      "needs_background": "light"
     },
     "output_type": "display_data"
    }
   ],
   "source": [
    "plt.hist(df[:,col_index('Prediction')])\n",
    "plt.show()"
   ]
  },
  {
   "cell_type": "code",
   "execution_count": null,
   "id": "3a1fa21b-17cc-4947-8540-8a3d06d47773",
   "metadata": {},
   "outputs": [],
   "source": []
  },
  {
   "cell_type": "code",
   "execution_count": 11,
   "id": "51e7e3b3-9916-4a23-a721-5f9d256106b3",
   "metadata": {},
   "outputs": [
    {
     "data": {
      "text/plain": [
       "array([[    2,     3],\n",
       "       [47425, 20685]])"
      ]
     },
     "execution_count": 11,
     "metadata": {},
     "output_type": "execute_result"
    }
   ],
   "source": [
    "def value_counts(df, col_name):\n",
    "    u, c = np.unique(df[:,col_index(col_name)], return_counts = True)\n",
    "    return np.asarray((u, c), dtype=int)\n",
    "\n",
    "value_counts(df, 'PRI_jet_num')"
   ]
  },
  {
   "cell_type": "markdown",
   "id": "b8664f7f-7313-495a-ac7d-e1db2a9736f6",
   "metadata": {},
   "source": [
    "As we can see, removing the undefined `-999` has the side effect of keeping datapoints that have `PRI_jet_num >= 2` and thus removing those where `PRI_jet_num == 0` or `PRI_jet_num == 1`. We will thus create a second dataset with the missing data and ignore the undefined columns for the second dataset"
   ]
  },
  {
   "cell_type": "code",
   "execution_count": 12,
   "id": "94adba82-f490-49a3-b52f-7a530791a980",
   "metadata": {},
   "outputs": [],
   "source": [
    "df_2 = np.vstack((ids.T, labels.T, data.T)).T"
   ]
  },
  {
   "cell_type": "code",
   "execution_count": 13,
   "id": "b273d906-74ac-4545-9400-1e36052e7256",
   "metadata": {},
   "outputs": [],
   "source": [
    "df_2 = df_2[df_2[:,col_index('PRI_jet_num')] <= 1]"
   ]
  },
  {
   "cell_type": "code",
   "execution_count": null,
   "id": "e971defa-b9c4-4076-8d44-5b750c082ac8",
   "metadata": {},
   "outputs": [],
   "source": []
  },
  {
   "cell_type": "code",
   "execution_count": 14,
   "id": "ac0b1d82-7287-48a9-b821-c6bb505e39c6",
   "metadata": {},
   "outputs": [],
   "source": [
    "cols = [df_2[:,idx] for idx in range(col_names.shape[0]) if (DUMMY_VALUE not in df_2[:,idx])]\n",
    "df_2 = np.asarray(cols).T # keeping columns that dont have -999's"
   ]
  },
  {
   "cell_type": "code",
   "execution_count": 15,
   "id": "1bccbd45-e78d-45cb-940f-a563123a4e50",
   "metadata": {},
   "outputs": [
    {
     "data": {
      "text/plain": [
       "(177457, 21)"
      ]
     },
     "execution_count": 15,
     "metadata": {},
     "output_type": "execute_result"
    }
   ],
   "source": [
    "df_2.shape"
   ]
  },
  {
   "cell_type": "code",
   "execution_count": null,
   "id": "fc726178-c219-4592-b1ef-8848c053a9f1",
   "metadata": {},
   "outputs": [],
   "source": []
  },
  {
   "cell_type": "code",
   "execution_count": null,
   "id": "d682f06d-06fa-493b-9aed-d4c8ef2b4563",
   "metadata": {},
   "outputs": [],
   "source": []
  },
  {
   "cell_type": "code",
   "execution_count": 19,
   "id": "3969a022-3739-4b80-97a9-b0900af1bc99",
   "metadata": {},
   "outputs": [],
   "source": [
    "# En fin de compte en splittant le dataset en 2 parties, on ne perd que 4k lignes sur 250k"
   ]
  },
  {
   "cell_type": "code",
   "execution_count": 18,
   "id": "09ca872c-379c-4f45-8c57-1645321b9040",
   "metadata": {},
   "outputs": [
    {
     "data": {
      "text/plain": [
       "4429"
      ]
     },
     "execution_count": 18,
     "metadata": {},
     "output_type": "execute_result"
    }
   ],
   "source": [
    "data.shape[0] - (df_2.shape[0] + df.shape[0] + 4)"
   ]
  },
  {
   "cell_type": "code",
   "execution_count": 231,
   "id": "0b1d3969-b266-4e1f-aba0-8ec24dabe94f",
   "metadata": {},
   "outputs": [],
   "source": [
    "#################### DID NOT MODIFY UNDER THIS #########################"
   ]
  },
  {
   "cell_type": "code",
   "execution_count": null,
   "id": "92b92a31-8a34-43ba-9256-959288231e55",
   "metadata": {},
   "outputs": [],
   "source": []
  },
  {
   "cell_type": "code",
   "execution_count": 13,
   "id": "12469152-89c1-4a64-b390-888069e985a6",
   "metadata": {},
   "outputs": [],
   "source": [
    "train_labels, train_data, train_ids = load_csv_data(\"data/train.csv\")\n",
    "_, test_data, test_ids = load_csv_data(\"data/train.csv\")\n"
   ]
  },
  {
   "cell_type": "code",
   "execution_count": 14,
   "id": "ba899f82-6863-44cb-acd3-0aee5f4e52b3",
   "metadata": {},
   "outputs": [],
   "source": [
    "train_data_mean = train_data.mean(axis=0)\n",
    "train_data_std = train_data.std(axis=0)\n",
    "x = (train_data - train_data_mean)/train_data_std\n",
    "test_x = (test_data - train_data_mean)/train_data_std\n",
    "y = train_labels"
   ]
  },
  {
   "cell_type": "markdown",
   "id": "164a3dcd-aaa0-46dd-b54e-e2a6329012fd",
   "metadata": {},
   "source": [
    "functions to test different methods for regression"
   ]
  },
  {
   "cell_type": "code",
   "execution_count": 15,
   "id": "fdbe4f29-56e7-4f6d-b3d3-8e9b5b0b04b5",
   "metadata": {},
   "outputs": [],
   "source": [
    "def compute_loss(y, tx, model):\n",
    "    err = y - (tx @ model)\n",
    "    return (err.T @ err)/y.shape[0]\n",
    "\n",
    "def build_k_indices(y, k_fold, seed):\n",
    "    \"\"\"build k indices for k-fold.\n",
    "    \n",
    "    Args:\n",
    "        y:      shape=(N,)\n",
    "        k_fold: K in K-fold, i.e. the fold num\n",
    "        seed:   the random seed\n",
    "\n",
    "    Returns:\n",
    "        A 2D array of shape=(k_fold, N/k_fold) that indicates the data indices for each fold\n",
    "\n",
    "    >>> build_k_indices(np.array([1., 2., 3., 4.]), 2, 1)\n",
    "    array([[3, 2],\n",
    "           [0, 1]])\n",
    "    \"\"\"\n",
    "    num_row = y.shape[0]\n",
    "    interval = int(num_row / k_fold)\n",
    "    np.random.seed(seed)\n",
    "    indices = np.random.permutation(num_row)\n",
    "    k_indices = [indices[k * interval: (k + 1) * interval] for k in range(k_fold)]\n",
    "    return np.array(k_indices)\n",
    "\n",
    "def build_poly(x, degree):\n",
    "    \"\"\"polynomial basis functions for input data x, for j=0 up to j=degree.\n",
    "    \n",
    "    Args:\n",
    "        x: numpy array of shape (N,D)\n",
    "        degree: integer.\n",
    "        \n",
    "    Returns:\n",
    "        poly: numpy array of shape (N,D*d+1)\n",
    "    \"\"\"    \n",
    "    N = x.shape[0]\n",
    "    D = x.shape[1]\n",
    "    #poly_base = np.zeros((N, D*degree + 1))\n",
    "    poly_base = np.ones((N,1))\n",
    "    poly_base = np.hstack((poly_base, x.copy()))\n",
    "    for i in range(degree-1):\n",
    "        range_start = 1 + i*D\n",
    "        range_stop = 1 + (i+1)*D\n",
    "        next_power = poly_base[:,range_start:range_stop]*x\n",
    "        poly_base = np.hstack((poly_base, next_power))\n",
    "    \n",
    "    return poly_base\n",
    "\n",
    "def cross_validation(train_model, degree):\n",
    "    \"\"\"\n",
    "    Tests a certain training function using 4-fold cross-validation\n",
    "    arguments: \n",
    "    train_model: func(y, tx) -> model\n",
    "    returns: model, training_loss, test_loss\n",
    "    \"\"\"\n",
    "    tx = build_poly(x, degree)\n",
    "    k = 4\n",
    "    k_indices = build_k_indices(train_y, k, seed)\n",
    "    test_idx = k_indices[k-1]\n",
    "    train_idx = (k_indices[:k-1]).flatten()\n",
    "    model, train_loss = train_model(y[train_idx], tx[train_idx])\n",
    "    test_loss = compute_loss(y[test_idx], tx[test_idx], model)\n",
    "    return model, train_loss, test_loss"
   ]
  },
  {
   "cell_type": "markdown",
   "id": "7c5f2073-be82-49c6-9b9b-1445a1baaf91",
   "metadata": {},
   "source": [
    "Graph stuff"
   ]
  },
  {
   "cell_type": "code",
   "execution_count": 16,
   "id": "6dcf262e-d3ff-471e-9e97-17b158776551",
   "metadata": {},
   "outputs": [],
   "source": [
    "import numpy as np\n",
    "import matplotlib.pyplot as plt\n",
    "\n",
    "def cross_validation_visualization(lambds, mse_tr, mse_te):\n",
    "    \"\"\"visualization the curves of mse_tr and mse_te.\"\"\"\n",
    "    plt.semilogx(lambds, mse_tr, marker=\".\", color='b', label='train error')\n",
    "    plt.semilogx(lambds, mse_te, marker=\".\", color='r', label='test error')\n",
    "    plt.xlabel(\"lambda\")\n",
    "    plt.ylabel(\"r mse\")\n",
    "    #plt.xlim(1e-4, 1)\n",
    "    plt.title(\"cross validation\")\n",
    "    plt.legend(loc=2)\n",
    "    plt.grid(True)\n",
    "    plt.savefig(\"cross_validation\")\n",
    "    \n",
    "def cross_validation_explore_lambda(train_model, degree, lambdas):\n",
    "    \"\"\"cross validation over regularisation parameter lambda.\n",
    "    \n",
    "    Args:\n",
    "        train_model: func(y, tx, lambda) -> model\n",
    "        degree: integer, degree of the polynomial expansion\n",
    "        lambdas: shape = (p, ) where p is the number of values of lambda to test\n",
    "    Returns:\n",
    "        best_lambda : scalar, value of the best lambda\n",
    "        best_mse : scalar, the associated mean squared error for the best lambda\n",
    "    \"\"\"\n",
    "    seed = 12\n",
    "    degree = degree\n",
    "    lambdas = lambdas\n",
    "    # define lists to store the loss of training data and test data\n",
    "    mse_tr = []\n",
    "    mse_te = []\n",
    "    \n",
    "    best_idx = 0\n",
    "    idx = 0\n",
    "    for lambda_ in np.nditer(lambdas):\n",
    "        _, te, tr = cross_validation(lambda y,tx: train_model(y,tx, lambda_), degree)\n",
    "        mse_tr.append(tr)\n",
    "        mse_te.append(te)\n",
    "        if te < mse_te[best_idx]:\n",
    "            best_idx = idx\n",
    "        idx += 1\n",
    "    \n",
    "    best_lambda = lambdas[best_idx]\n",
    "    best_mse = mse_te[best_idx]\n",
    "        \n",
    "    cross_validation_visualization(lambdas, mse_tr, mse_te)\n",
    "    print(\"For polynomial expansion up to degree %.f, the choice of lambda which leads to the best test mse is %.5f with a test mse of %.3f\" % (degree, best_lambda, best_mse))\n",
    "    return best_lambda, best_mse\n",
    "\n",
    "lambdas = np.logspace(-4, 0, 30)\n",
    "#best_lambda, best_rmse = cross_validation_demo(7, 4, np.logspace(-4, 0, 30))"
   ]
  },
  {
   "cell_type": "markdown",
   "id": "0b6ca23c-c1ac-4785-93b3-f324f71a9efe",
   "metadata": {},
   "source": [
    "Now try different methods"
   ]
  },
  {
   "cell_type": "code",
   "execution_count": 17,
   "id": "e9ebb8fe-4d8d-446e-8d55-17ec3da49300",
   "metadata": {},
   "outputs": [
    {
     "ename": "NameError",
     "evalue": "name 'train_y' is not defined",
     "output_type": "error",
     "traceback": [
      "\u001b[0;31m---------------------------------------------------------------------------\u001b[0m",
      "\u001b[0;31mNameError\u001b[0m                                 Traceback (most recent call last)",
      "\u001b[0;32m/var/folders/w1/y2_j3wx17x57bpwdy6h11w200000gn/T/ipykernel_65373/1764722172.py\u001b[0m in \u001b[0;36m<module>\u001b[0;34m\u001b[0m\n\u001b[0;32m----> 1\u001b[0;31m \u001b[0mcross_validation\u001b[0m\u001b[0;34m(\u001b[0m\u001b[0mleast_squares\u001b[0m\u001b[0;34m,\u001b[0m\u001b[0;36m2\u001b[0m\u001b[0;34m)\u001b[0m\u001b[0;34m\u001b[0m\u001b[0;34m\u001b[0m\u001b[0m\n\u001b[0m",
      "\u001b[0;32m/var/folders/w1/y2_j3wx17x57bpwdy6h11w200000gn/T/ipykernel_65373/3745379068.py\u001b[0m in \u001b[0;36mcross_validation\u001b[0;34m(train_model, degree)\u001b[0m\n\u001b[1;32m     57\u001b[0m     \u001b[0mtx\u001b[0m \u001b[0;34m=\u001b[0m \u001b[0mbuild_poly\u001b[0m\u001b[0;34m(\u001b[0m\u001b[0mx\u001b[0m\u001b[0;34m,\u001b[0m \u001b[0mdegree\u001b[0m\u001b[0;34m)\u001b[0m\u001b[0;34m\u001b[0m\u001b[0;34m\u001b[0m\u001b[0m\n\u001b[1;32m     58\u001b[0m     \u001b[0mk\u001b[0m \u001b[0;34m=\u001b[0m \u001b[0;36m4\u001b[0m\u001b[0;34m\u001b[0m\u001b[0;34m\u001b[0m\u001b[0m\n\u001b[0;32m---> 59\u001b[0;31m     \u001b[0mk_indices\u001b[0m \u001b[0;34m=\u001b[0m \u001b[0mbuild_k_indices\u001b[0m\u001b[0;34m(\u001b[0m\u001b[0mtrain_y\u001b[0m\u001b[0;34m,\u001b[0m \u001b[0mk\u001b[0m\u001b[0;34m,\u001b[0m \u001b[0mseed\u001b[0m\u001b[0;34m)\u001b[0m\u001b[0;34m\u001b[0m\u001b[0;34m\u001b[0m\u001b[0m\n\u001b[0m\u001b[1;32m     60\u001b[0m     \u001b[0mtest_idx\u001b[0m \u001b[0;34m=\u001b[0m \u001b[0mk_indices\u001b[0m\u001b[0;34m[\u001b[0m\u001b[0mk\u001b[0m\u001b[0;34m-\u001b[0m\u001b[0;36m1\u001b[0m\u001b[0;34m]\u001b[0m\u001b[0;34m\u001b[0m\u001b[0;34m\u001b[0m\u001b[0m\n\u001b[1;32m     61\u001b[0m     \u001b[0mtrain_idx\u001b[0m \u001b[0;34m=\u001b[0m \u001b[0;34m(\u001b[0m\u001b[0mk_indices\u001b[0m\u001b[0;34m[\u001b[0m\u001b[0;34m:\u001b[0m\u001b[0mk\u001b[0m\u001b[0;34m-\u001b[0m\u001b[0;36m1\u001b[0m\u001b[0;34m]\u001b[0m\u001b[0;34m)\u001b[0m\u001b[0;34m.\u001b[0m\u001b[0mflatten\u001b[0m\u001b[0;34m(\u001b[0m\u001b[0;34m)\u001b[0m\u001b[0;34m\u001b[0m\u001b[0;34m\u001b[0m\u001b[0m\n",
      "\u001b[0;31mNameError\u001b[0m: name 'train_y' is not defined"
     ]
    }
   ],
   "source": [
    "cross_validation(least_squares,2)"
   ]
  },
  {
   "cell_type": "code",
   "execution_count": null,
   "id": "f98042de-c114-4778-aaa4-5e7e88216a11",
   "metadata": {},
   "outputs": [],
   "source": [
    "cross_validation_explore_lambda(lambda y,tx,lambda_: ridge_regression(y,tx,lambda_), 3, lambdas)"
   ]
  },
  {
   "cell_type": "code",
   "execution_count": 156,
   "id": "e92c7e36-e536-40c2-b099-eed4569f3492",
   "metadata": {},
   "outputs": [
    {
     "data": {
      "text/plain": [
       "(array([-8.05291911e-02,  2.17067256e-02, -3.22149173e-02, -1.26231262e-03,\n",
       "         1.65392468e-02,  1.13124218e-02,  1.61151151e-02,  1.12084660e-02,\n",
       "         2.09079318e-03, -2.08117141e-03,  1.24262748e-02, -1.82336961e-02,\n",
       "         2.44234779e-02,  1.12837765e-02,  2.12926998e-02,  8.52438106e-06,\n",
       "        -4.54075796e-04, -3.30284901e-03, -1.78764076e-06,  3.97694330e-04,\n",
       "         1.50958797e-03,  6.91787073e-04,  1.08647655e-02,  1.05152289e-02,\n",
       "         1.32004359e-02,  1.26264709e-02,  1.26253124e-02,  1.12036398e-02,\n",
       "         1.12762249e-02,  1.12751909e-02,  1.05438203e-02]),\n",
       " 0.5761583841141812,\n",
       " 0.882165687969785)"
      ]
     },
     "execution_count": 156,
     "metadata": {},
     "output_type": "execute_result"
    }
   ],
   "source": [
    "cross_validation(lambda y,tx: logistic_regression(y, tx, np.zeros(tx.shape[1]), 100, 0.001), 1)"
   ]
  }
 ],
 "metadata": {
  "kernelspec": {
   "display_name": "Python 3 (ipykernel)",
   "language": "python",
   "name": "python3"
  },
  "language_info": {
   "codemirror_mode": {
    "name": "ipython",
    "version": 3
   },
   "file_extension": ".py",
   "mimetype": "text/x-python",
   "name": "python",
   "nbconvert_exporter": "python",
   "pygments_lexer": "ipython3",
   "version": "3.8.11"
  }
 },
 "nbformat": 4,
 "nbformat_minor": 5
}
