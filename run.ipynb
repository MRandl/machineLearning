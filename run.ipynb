{
 "cells": [
  {
   "cell_type": "code",
   "execution_count": 10,
   "id": "4a3a65fb-8def-459a-86ff-14f5cf3bc802",
   "metadata": {},
   "outputs": [],
   "source": [
    "import pandas as pd\n",
    "import numpy as np\n",
    "import random\n",
    "from implementations import *\n",
    "from helpers import load_csv_data"
   ]
  },
  {
   "cell_type": "code",
   "execution_count": 1,
   "id": "c729a004-595c-4d58-bbcb-b0f304e22f70",
   "metadata": {},
   "outputs": [],
   "source": [
    "seed = 7"
   ]
  },
  {
   "cell_type": "code",
   "execution_count": 72,
   "id": "e341eab5-e4f6-4687-9576-69a6f221159d",
   "metadata": {},
   "outputs": [],
   "source": [
    "train_labels, train_data, train_ids = load_csv_data(\"data/train.csv\")\n",
    "#test_labels, test_data, test_ids = load_csv_data(\"data/test.csv\")\n",
    "x = train_data\n",
    "y = train_labels"
   ]
  },
  {
   "cell_type": "markdown",
   "id": "164a3dcd-aaa0-46dd-b54e-e2a6329012fd",
   "metadata": {},
   "source": [
    "functions to test different methods for regression"
   ]
  },
  {
   "cell_type": "code",
   "execution_count": 73,
   "id": "fdbe4f29-56e7-4f6d-b3d3-8e9b5b0b04b5",
   "metadata": {},
   "outputs": [],
   "source": [
    "def compute_loss(y, tx, model):\n",
    "    err = y - (tx @ model)\n",
    "    return (err.T @ err)/y.shape[0]\n",
    "\n",
    "def build_k_indices(y, k_fold, seed):\n",
    "    \"\"\"build k indices for k-fold.\n",
    "    \n",
    "    Args:\n",
    "        y:      shape=(N,)\n",
    "        k_fold: K in K-fold, i.e. the fold num\n",
    "        seed:   the random seed\n",
    "\n",
    "    Returns:\n",
    "        A 2D array of shape=(k_fold, N/k_fold) that indicates the data indices for each fold\n",
    "\n",
    "    >>> build_k_indices(np.array([1., 2., 3., 4.]), 2, 1)\n",
    "    array([[3, 2],\n",
    "           [0, 1]])\n",
    "    \"\"\"\n",
    "    num_row = y.shape[0]\n",
    "    interval = int(num_row / k_fold)\n",
    "    np.random.seed(seed)\n",
    "    indices = np.random.permutation(num_row)\n",
    "    k_indices = [indices[k * interval: (k + 1) * interval] for k in range(k_fold)]\n",
    "    return np.array(k_indices)\n",
    "\n",
    "def build_poly(x, degree):\n",
    "    \"\"\"polynomial basis functions for input data x, for j=0 up to j=degree.\n",
    "    \n",
    "    Args:\n",
    "        x: numpy array of shape (N,D)\n",
    "        degree: integer.\n",
    "        \n",
    "    Returns:\n",
    "        poly: numpy array of shape (N,D*d+1)\n",
    "    \"\"\"    \n",
    "    N = x.shape[0]\n",
    "    D = x.shape[1]\n",
    "    #poly_base = np.zeros((N, D*degree + 1))\n",
    "    poly_base = np.ones((N,1))\n",
    "    poly_base = np.hstack((poly_base, x.copy()))\n",
    "    for i in range(degree-1):\n",
    "        range_start = 1 + i*D\n",
    "        range_stop = 1 + (i+1)*D\n",
    "        next_power = poly_base[:,range_start:range_stop]*x\n",
    "        poly_base = np.hstack((poly_base, next_power))\n",
    "    \n",
    "    return poly_base\n",
    "\n",
    "def using_method(train_model, degree):\n",
    "    \"\"\"\n",
    "    Tests a certain training function using 4-fold cross-validation\n",
    "    arguments: \n",
    "    train_model: func(y, tx) -> model\n",
    "    returns: model, expected_loss\n",
    "    \"\"\"\n",
    "    tx = build_poly(x, degree)\n",
    "    k = 4\n",
    "    k_indices = build_k_indices(train_y, k, seed)\n",
    "    test_idx = k_indices[k-1]\n",
    "    train_idx = (k_indices[:k-1]).flatten()\n",
    "    model, train_loss = train_model(y[train_idx], tx[train_idx])\n",
    "    test_loss = compute_loss(y[test_idx], tx[test_idx], model)\n",
    "    return model, test_loss"
   ]
  },
  {
   "cell_type": "markdown",
   "id": "0b6ca23c-c1ac-4785-93b3-f324f71a9efe",
   "metadata": {},
   "source": [
    "Now try different methods"
   ]
  },
  {
   "cell_type": "code",
   "execution_count": 77,
   "id": "e9ebb8fe-4d8d-446e-8d55-17ec3da49300",
   "metadata": {},
   "outputs": [
    {
     "data": {
      "text/plain": [
       "(array([-6.33628698e+04,  2.35897173e-04, -9.75903429e-03, -6.48521706e-03,\n",
       "         1.64044485e-03, -1.87504042e-01,  2.97110008e-05, -3.71795590e-02,\n",
       "         7.93370273e-01, -7.79859026e-04, -2.21744739e+00, -3.03757107e-01,\n",
       "         5.55407922e-02,  4.04958059e-01,  2.23018240e+00,  1.26922131e-03,\n",
       "        -1.12742370e-03,  2.23308190e+00, -1.54277284e-03,  5.21838956e-04,\n",
       "         2.06113671e-03,  1.19421211e-03,  2.19488164e-04,  5.28010893e+04,\n",
       "         1.68495455e-03,  1.51445388e-03,  6.52376858e-04,  1.39485679e-03,\n",
       "         1.96730263e-03,  1.65156252e-04,  2.21699525e+00,  2.28977022e-07,\n",
       "         2.91465713e-05,  3.57118576e-06,  1.90352931e-06,  2.26641463e-02,\n",
       "        -2.59872453e-08, -2.13541682e-03, -9.52295124e-02,  4.51415930e-06,\n",
       "        -6.78990219e-07,  2.84720743e-02,  4.11213161e-02, -3.13029753e-02,\n",
       "        -3.56035748e-05, -2.23472788e-02, -9.17581397e-04, -4.74546649e-05,\n",
       "        -3.57204275e-02, -6.26093822e-04, -7.39044768e-06,  1.34614834e-04,\n",
       "        -1.23832166e-06, -1.05602557e+04, -2.82091532e-06,  4.17200918e-02,\n",
       "         6.12222376e-04,  5.54052001e-07,  3.36216290e-02, -1.50129130e-03,\n",
       "         1.26000986e-06]),\n",
       " 0.6455496356509544)"
      ]
     },
     "execution_count": 77,
     "metadata": {},
     "output_type": "execute_result"
    }
   ],
   "source": [
    "using_method(least_squares,2)"
   ]
  },
  {
   "cell_type": "code",
   "execution_count": 82,
   "id": "f98042de-c114-4778-aaa4-5e7e88216a11",
   "metadata": {},
   "outputs": [
    {
     "data": {
      "text/plain": [
       "(array([-3.67453313e-01,  7.26504386e-05, -7.21408261e-03, -6.22365469e-03,\n",
       "        -6.05763429e-04, -2.78355919e-03,  4.31854217e-04, -2.60894162e-02,\n",
       "         3.41060111e-01, -8.87995896e-05, -3.33784877e-03, -2.16750759e-01,\n",
       "         9.71972335e-02,  4.58988585e-02,  1.18964084e-02, -4.40617687e-04,\n",
       "        -1.35361461e-03,  1.65061054e-02, -9.27074597e-04,  4.98585092e-04,\n",
       "         3.84757476e-03,  8.76254227e-04, -4.94122327e-04, -2.09314554e-01,\n",
       "        -1.21965503e-04,  9.13166563e-04, -4.66909825e-04,  2.37616071e-05,\n",
       "        -6.32337966e-03, -1.08887263e-02,  2.52647085e-03]),\n",
       " 0.6824576588149239)"
      ]
     },
     "execution_count": 82,
     "metadata": {},
     "output_type": "execute_result"
    }
   ],
   "source": [
    "using_method(lambda y,tx: ridge_regression(y,tx,0.00001), 1)"
   ]
  }
 ],
 "metadata": {
  "kernelspec": {
   "display_name": "Python 3 (ipykernel)",
   "language": "python",
   "name": "python3"
  },
  "language_info": {
   "codemirror_mode": {
    "name": "ipython",
    "version": 3
   },
   "file_extension": ".py",
   "mimetype": "text/x-python",
   "name": "python",
   "nbconvert_exporter": "python",
   "pygments_lexer": "ipython3",
   "version": "3.9.13"
  }
 },
 "nbformat": 4,
 "nbformat_minor": 5
}
