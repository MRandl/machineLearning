{
 "cells": [
  {
   "cell_type": "code",
   "execution_count": 1,
   "id": "d5f561ff-6f24-4637-b93b-bdcf10bdb5f6",
   "metadata": {},
   "outputs": [],
   "source": [
    "import numpy as np\n",
    "from sklearn.metrics import * #todo remove\n",
    "from helpers import *\n",
    "from implementations import *"
   ]
  },
  {
   "cell_type": "code",
   "execution_count": 2,
   "id": "2a8e28e0-9503-41db-a4c9-6017116a99a0",
   "metadata": {},
   "outputs": [],
   "source": [
    "(y, x, ids) = load_csv_data('data/train.csv')"
   ]
  },
  {
   "cell_type": "code",
   "execution_count": 3,
   "id": "33891f3e-55d7-42eb-b993-8ae0921fc7b4",
   "metadata": {},
   "outputs": [
    {
     "data": {
      "text/plain": [
       "((250000,), (250000, 30), (250000,))"
      ]
     },
     "execution_count": 3,
     "metadata": {},
     "output_type": "execute_result"
    }
   ],
   "source": [
    "(y.shape, x.shape, ids.shape)"
   ]
  },
  {
   "cell_type": "code",
   "execution_count": 4,
   "id": "31614bf9-8257-42c4-a2f0-f5afd2419c03",
   "metadata": {},
   "outputs": [],
   "source": [
    "#remove 999s, replacing by mean of column\n",
    "x[np.where(x == -999)] = np.NaN\n",
    "col_mean = np.nanmean(x, axis=0)\n",
    "inds = np.where(np.isnan(x))\n",
    "x[inds] = np.take(col_mean, inds[1])"
   ]
  },
  {
   "cell_type": "code",
   "execution_count": 5,
   "id": "8c5b9aee-ab1a-42f8-b3f2-e881b6dab783",
   "metadata": {},
   "outputs": [],
   "source": [
    "#standardize\n",
    "x = (x-x.mean(axis = 0))/x.std(axis = 0)"
   ]
  },
  {
   "cell_type": "code",
   "execution_count": 6,
   "id": "94dcc253-5706-4e20-9d8f-f21be6917325",
   "metadata": {},
   "outputs": [
    {
     "data": {
      "text/plain": [
       "(250000, 30)"
      ]
     },
     "execution_count": 6,
     "metadata": {},
     "output_type": "execute_result"
    }
   ],
   "source": [
    "x.shape"
   ]
  },
  {
   "cell_type": "code",
   "execution_count": 7,
   "id": "50394609-9b6a-4f76-a78a-448d2da21424",
   "metadata": {},
   "outputs": [
    {
     "data": {
      "text/plain": [
       "(31,)"
      ]
     },
     "execution_count": 7,
     "metadata": {},
     "output_type": "execute_result"
    }
   ],
   "source": [
    "newcol = np.ones((x.shape[0], 1))\n",
    "x = np.append(x, newcol, axis=1)\n",
    "x[0].shape"
   ]
  },
  {
   "cell_type": "code",
   "execution_count": null,
   "id": "90f032c6-ff13-4ce4-b0ec-02df8ec807b5",
   "metadata": {},
   "outputs": [],
   "source": []
  },
  {
   "cell_type": "code",
   "execution_count": 8,
   "id": "299dd482-089f-4289-89a5-7f411320630b",
   "metadata": {},
   "outputs": [],
   "source": [
    "indices = np.random.permutation(x.shape[0])\n",
    "test_idx, training_idx = indices[:(x.shape[0]//5)], indices[(x.shape[0]//5):]"
   ]
  },
  {
   "cell_type": "code",
   "execution_count": 9,
   "id": "a6d94d5c-5982-4696-9da5-c28a6d3cee0f",
   "metadata": {},
   "outputs": [],
   "source": [
    "tr_x, tr_y = x[training_idx], y[training_idx]\n",
    "te_x, te_y = x[test_idx], y[test_idx]"
   ]
  },
  {
   "cell_type": "code",
   "execution_count": 10,
   "id": "a848a13c-5466-48a3-81bc-040d3f2fdd7f",
   "metadata": {},
   "outputs": [],
   "source": [
    "(w, loss) = least_squares(tr_y, tr_x)"
   ]
  },
  {
   "cell_type": "code",
   "execution_count": 11,
   "id": "139c43d7-63d5-43cf-943f-747c2e087f52",
   "metadata": {},
   "outputs": [],
   "source": [
    "pred = te_x @ w"
   ]
  },
  {
   "cell_type": "code",
   "execution_count": 12,
   "id": "0d445f8e-e20b-479c-bb02-dc0a6683aff6",
   "metadata": {},
   "outputs": [],
   "source": [
    "decision = 0\n",
    "pred[np.where(pred <  decision)] = -1\n",
    "pred[np.where(pred >= decision)] = 1"
   ]
  },
  {
   "cell_type": "code",
   "execution_count": 13,
   "id": "252b575b-c3b2-4405-b3be-6f968b3e7f25",
   "metadata": {},
   "outputs": [
    {
     "data": {
      "text/plain": [
       "array([-1., -1., -1., ...,  1., -1., -1.])"
      ]
     },
     "execution_count": 13,
     "metadata": {},
     "output_type": "execute_result"
    }
   ],
   "source": [
    "pred"
   ]
  },
  {
   "cell_type": "code",
   "execution_count": 14,
   "id": "201f1fba-b0f3-467a-b515-1f11ad802d73",
   "metadata": {},
   "outputs": [
    {
     "name": "stdout",
     "output_type": "stream",
     "text": [
      "f1: 0.5709954522486104\n",
      "acc: 0.7453\n",
      "rec: 0.49167488542089693\n",
      "pre: 0.680832262210797\n"
     ]
    }
   ],
   "source": [
    "print(\"f1:\",  f1_score(te_y, pred))\n",
    "print(\"acc:\", accuracy_score(te_y, pred))\n",
    "print(\"rec:\", recall_score(te_y, pred))\n",
    "print(\"pre:\", precision_score(te_y, pred))"
   ]
  },
  {
   "cell_type": "code",
   "execution_count": 15,
   "id": "4777f42f-c8de-494e-82d0-958b1b8294fe",
   "metadata": {},
   "outputs": [
    {
     "name": "stdout",
     "output_type": "stream",
     "text": [
      "[[28790  3973]\n",
      " [ 8762  8475]]\n"
     ]
    }
   ],
   "source": [
    "print(confusion_matrix(te_y, pred))"
   ]
  },
  {
   "cell_type": "code",
   "execution_count": null,
   "id": "3989722a-dd8d-4f7a-9c29-79d9d5f63017",
   "metadata": {},
   "outputs": [],
   "source": []
  }
 ],
 "metadata": {
  "kernelspec": {
   "display_name": "Python 3 (ipykernel)",
   "language": "python",
   "name": "python3"
  },
  "language_info": {
   "codemirror_mode": {
    "name": "ipython",
    "version": 3
   },
   "file_extension": ".py",
   "mimetype": "text/x-python",
   "name": "python",
   "nbconvert_exporter": "python",
   "pygments_lexer": "ipython3",
   "version": "3.9.13"
  }
 },
 "nbformat": 4,
 "nbformat_minor": 5
}
