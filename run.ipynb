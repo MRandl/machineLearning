{
 "cells": [
  {
   "cell_type": "code",
   "execution_count": 5,
   "id": "4a3a65fb-8def-459a-86ff-14f5cf3bc802",
   "metadata": {},
   "outputs": [],
   "source": [
    "import numpy as np\n",
    "import random\n",
    "from implementations import *\n",
    "from helpers import load_csv_data\n"
   ]
  },
  {
   "cell_type": "code",
   "execution_count": 6,
   "id": "c729a004-595c-4d58-bbcb-b0f304e22f70",
   "metadata": {},
   "outputs": [],
   "source": [
    "seed = 7"
   ]
  },
  {
   "cell_type": "code",
   "execution_count": 7,
   "id": "8fb42fca-b128-48c4-891b-14abf08cb535",
   "metadata": {},
   "outputs": [],
   "source": [
    "train_labels_raw, train_data_raw, train_ids = load_csv_data(\"data/train.csv\")\n",
    "_, test_data_raw, test_ids = load_csv_data(\"data/train.csv\")\n"
   ]
  },
  {
   "cell_type": "markdown",
   "id": "9df84222-7f1e-4c5f-ad53-a73f0b005a97",
   "metadata": {},
   "source": [
    "Code for visualisation of the data"
   ]
  },
  {
   "cell_type": "code",
   "execution_count": 67,
   "id": "582f886e-6d8c-4453-87cb-8613ef3eef8d",
   "metadata": {},
   "outputs": [
    {
     "name": "stdout",
     "output_type": "stream",
     "text": [
      "250000\n",
      "211886\n",
      "(250000, 30)\n"
     ]
    }
   ],
   "source": [
    "import pandas as pd\n",
    "\n",
    "df = pd.DataFrame(data=train_data_raw, index=None, columns=None)\n",
    "df = df.applymap(lambda v: v if v > -999.0 else np.NaN)\n",
    "print(len(df))\n",
    "two_more_jets = df[(df[[22]] >= 2).to_numpy()].dropna()\n",
    "one_jet = df[(df[[22]] == 1).to_numpy()].drop([4,5,6,12, 26,27,28], axis=1).dropna()\n",
    "zero_jet = df[(df[[22]] == 0).to_numpy()].drop([4,5,6,12,23,24,25,26,27,28], axis=1).dropna()\n",
    "print(len(two_more_jets)+len(one_jet)+len(zero_jet))\n",
    "print(test_data_raw.shape)"
   ]
  },
  {
   "cell_type": "markdown",
   "id": "ca8226b5-292a-4fea-9a8e-63294246442e",
   "metadata": {},
   "source": [
    "## Data cleaning and grouping\n",
    "This part creates three sets of rows depending on the number of jets"
   ]
  },
  {
   "cell_type": "code",
   "execution_count": 44,
   "id": "fc5b771a-a00b-4249-b904-7e65483e7e32",
   "metadata": {},
   "outputs": [],
   "source": [
    "med_over = train_data_raw[train_data_raw[:,0] != -999]\n",
    "med_DER_mass_MMC = np.median(med_over[:,0])"
   ]
  },
  {
   "cell_type": "code",
   "execution_count": 45,
   "id": "d1c8c699-642d-4806-bb8f-d0da7a56dac7",
   "metadata": {},
   "outputs": [],
   "source": [
    "train_data = train_data_raw[train_data_raw[:,0] > -999].copy()\n",
    "train_labels = train_labels_raw[train_data_raw[:,0] > -999].copy()\n",
    "test_data = test_data_raw.copy()\n",
    "test_data[test_data_raw[:,0] == -999] = med_DER_mass_MMC"
   ]
  },
  {
   "cell_type": "code",
   "execution_count": 46,
   "id": "55538e76-e371-4d6f-ae76-03c72ed0736c",
   "metadata": {},
   "outputs": [],
   "source": [
    "two_more_jets = train_data[train_data[:,22] >= 2].copy()\n",
    "one_jet = train_data[train_data[:,22] == 1].copy()\n",
    "one_jet = np.delete(one_jet, np.s_[4,5,6,12,26,27,28], axis=1)\n",
    "zero_jet = train_data[train_data[:,22] == 0].copy()\n",
    "zero_jet = np.delete(zero_jet, np.s_[4,5,6,12,23,24,25,26,27,28], axis=1)\n",
    "\n",
    "jet_sets = [zero_jet, one_jet, two_more_jets]"
   ]
  },
  {
   "cell_type": "code",
   "execution_count": 47,
   "id": "20b4f370-0be2-429e-9e51-ff82f84948c5",
   "metadata": {},
   "outputs": [],
   "source": [
    "two_more_jets = train_labels[train_data[:,22] >= 2].copy()\n",
    "one_jet = train_labels[train_data[:,22] == 1].copy()\n",
    "zero_jet = train_labels[train_data[:,22] == 0].copy()\n",
    "\n",
    "jet_sets_labels = [zero_jet, one_jet, two_more_jets]"
   ]
  },
  {
   "cell_type": "code",
   "execution_count": 48,
   "id": "81f6220d-8c59-40d6-b8ea-66992b8bdf8d",
   "metadata": {},
   "outputs": [],
   "source": [
    "two_more_jets_test = test_data[test_data[:,22] >= 2].copy()\n",
    "one_jet_test = test_data[test_data[:,22] == 1].copy()\n",
    "one_jet_test = np.delete(one_jet_test, np.s_[4,5,6,12,26,27,28], axis=1)\n",
    "zero_jet_test = test_data[test_data[:,22] == 0].copy()\n",
    "zero_jet_test = np.delete(zero_jet_test, np.s_[4,5,6,12,23,24,25,26,27,28], axis=1)\n",
    "\n",
    "\n",
    "jet_sets_test = [zero_jet_test, one_jet_test, two_more_jets_test]"
   ]
  },
  {
   "cell_type": "markdown",
   "id": "eeba182e-44e4-492d-baf4-af3d4a169dcf",
   "metadata": {},
   "source": [
    "### Normalisation"
   ]
  },
  {
   "cell_type": "code",
   "execution_count": 49,
   "id": "ba899f82-6863-44cb-acd3-0aee5f4e52b3",
   "metadata": {},
   "outputs": [
    {
     "name": "stderr",
     "output_type": "stream",
     "text": [
      "/tmp/ipykernel_8166/428976276.py:4: RuntimeWarning: invalid value encountered in true_divide\n",
      "  jet_sets[i] = (jet_sets[i] - mean)/std\n",
      "/tmp/ipykernel_8166/428976276.py:6: RuntimeWarning: invalid value encountered in true_divide\n",
      "  jet_sets_test[i] = (jet_sets_test[i] - mean)/std\n"
     ]
    }
   ],
   "source": [
    "for i in range(3):\n",
    "    mean = jet_sets[i].mean(axis=0)\n",
    "    std = jet_sets[i].std(axis=0)\n",
    "    jet_sets[i] = (jet_sets[i] - mean)/std\n",
    "    jet_sets[i][np.isnan(jet_sets[i])] = 0\n",
    "    jet_sets_test[i] = (jet_sets_test[i] - mean)/std\n",
    "    jet_sets_test[i][np.isnan(jet_sets_test[i])] = 0"
   ]
  },
  {
   "cell_type": "markdown",
   "id": "ef8659ee-f4c9-4539-bd39-c8ba83b8b1ff",
   "metadata": {},
   "source": [
    "## Applying the models to the test set"
   ]
  },
  {
   "cell_type": "code",
   "execution_count": 77,
   "id": "95758cb2-802f-40a9-b6c6-a3cdbe3d1f75",
   "metadata": {},
   "outputs": [],
   "source": [
    "def make_predictions(test_sets, models):\n",
    "    assert test_data.shape[0] == test_sets[0].shape[0] + test_sets[1].shape[0] + test_sets[2].shape[0]\n",
    "    pred = np.zeros(test_data.shape[0])\n",
    "    pred[test_data[:22] >= 2] = test_sets[2] @ models[2]\n",
    "    pred[test_data[:22] == 1] = test_sets[1] @ models[1]\n",
    "    pred[test_data[:22] == 0] = test_sets[0] @ models[0]\n",
    "    decision = 0\n",
    "    pred[np.where(pred <  decision)] = -1\n",
    "    pred[np.where(pred >= decision)] = 1\n",
    "    return pred\n",
    "#make_predictions(jet_sets_test, [])"
   ]
  },
  {
   "cell_type": "markdown",
   "id": "c7752cf4-a4c3-4eef-98ef-4288ac8d1c6c",
   "metadata": {},
   "source": [
    "## Compute the models"
   ]
  },
  {
   "cell_type": "markdown",
   "id": "164a3dcd-aaa0-46dd-b54e-e2a6329012fd",
   "metadata": {},
   "source": [
    "functions to test different methods for regression"
   ]
  },
  {
   "cell_type": "code",
   "execution_count": 56,
   "id": "fdbe4f29-56e7-4f6d-b3d3-8e9b5b0b04b5",
   "metadata": {},
   "outputs": [],
   "source": [
    "def compute_loss(y, tx, model):\n",
    "    \"\"\"\n",
    "    compute the proportion of misprediction\n",
    "    \"\"\"\n",
    "    pred = tx @ model\n",
    "    decision = 0\n",
    "    pred[np.where(pred <  decision)] = -1\n",
    "    pred[np.where(pred >= decision)] = 1\n",
    "    err = (pred - y)/2\n",
    "    return np.absolute(err).mean()\n",
    "\n",
    "def build_validation_sets(y, k_fold, seed):\n",
    "    \"\"\"\n",
    "    returns indices for a train set and a test set\n",
    "    \"\"\"\n",
    "    num_row = y.shape[0]\n",
    "    np.random.seed(seed)\n",
    "    indices = np.random.permutation(num_row)\n",
    "    return indices[indices.shape[0]//(k_fold+1):], indices[:indices.shape[0]//(k_fold+1)],\n",
    "\n",
    "def build_poly(x, degree):\n",
    "    \"\"\"polynomial basis functions for input data x, for j=0 up to j=degree.\n",
    "    \n",
    "    Args:\n",
    "        x: numpy array of shape (N,D)\n",
    "        degree: integer.\n",
    "        \n",
    "    Returns:\n",
    "        poly: numpy array of shape (N,D*d+1)\n",
    "    \"\"\"    \n",
    "    N = x.shape[0]\n",
    "    D = x.shape[1]\n",
    "    #poly_base = np.zeros((N, D*degree + 1))\n",
    "    poly_base = np.ones((N,1))\n",
    "    poly_base = np.hstack((poly_base, x.copy()))\n",
    "    for i in range(degree-1):\n",
    "        range_start = 1 + i*D\n",
    "        range_stop = 1 + (i+1)*D\n",
    "        next_power = poly_base[:,range_start:range_stop]*x\n",
    "        poly_base = np.hstack((poly_base, next_power))\n",
    "    \n",
    "    return poly_base\n",
    "\n",
    "def cross_validation(y, x, train_model, degree):\n",
    "    \"\"\"\n",
    "    Tests a certain training function using 4-fold cross-validation\n",
    "    arguments: \n",
    "    train_model: func(y, tx) -> model\n",
    "    returns: model, training_loss, test_loss\n",
    "    \"\"\"\n",
    "    tx = build_poly(x, degree)\n",
    "    k = 4\n",
    "    train_idx, test_idx = build_validation_sets(x, k, seed)\n",
    "    model, train_loss = train_model(y[train_idx], tx[train_idx])\n",
    "    test_loss = compute_loss(y[test_idx], tx[test_idx], model)\n",
    "    return model, train_loss, test_loss"
   ]
  },
  {
   "cell_type": "markdown",
   "id": "7c5f2073-be82-49c6-9b9b-1445a1baaf91",
   "metadata": {},
   "source": [
    "Graph stuff"
   ]
  },
  {
   "cell_type": "code",
   "execution_count": 57,
   "id": "6dcf262e-d3ff-471e-9e97-17b158776551",
   "metadata": {},
   "outputs": [],
   "source": [
    "import numpy as np\n",
    "import matplotlib.pyplot as plt\n",
    "\n",
    "def cross_validation_visualization(lambds, mse_tr, mse_te):\n",
    "    \"\"\"visualization the curves of mse_tr and mse_te.\"\"\"\n",
    "    plt.semilogx(lambds, mse_tr, marker=\".\", color='b', label='train error')\n",
    "    plt.semilogx(lambds, mse_te, marker=\".\", color='r', label='test error')\n",
    "    plt.xlabel(\"lambda\")\n",
    "    plt.ylabel(\"r mse\")\n",
    "    #plt.xlim(1e-4, 1)\n",
    "    plt.title(\"cross validation\")\n",
    "    plt.legend(loc=2)\n",
    "    plt.grid(True)\n",
    "    \n",
    "def cross_validation_explore_lambda(train_model, degree, lambdas):\n",
    "    \"\"\"cross validation over regularisation parameter lambda.\n",
    "    \n",
    "    Args:\n",
    "        train_model: func(y, tx, lambda) -> model\n",
    "        degree: integer, degree of the polynomial expansion\n",
    "        lambdas: shape = (p, ) where p is the number of values of lambda to test\n",
    "    Returns:\n",
    "        best_lambda : scalar, value of the best lambda\n",
    "        best_mse : scalar, the associated mean squared error for the best lambda\n",
    "    \"\"\"\n",
    "    seed = 12\n",
    "    degree = degree\n",
    "    lambdas = lambdas\n",
    "    # define lists to store the loss of training data and test data\n",
    "    mse_tr = []\n",
    "    mse_te = []\n",
    "    \n",
    "    best_idx = 0\n",
    "    idx = 0\n",
    "    for lambda_ in np.nditer(lambdas):\n",
    "        _, te, tr = cross_validation(lambda y,tx: train_model(y,tx, lambda_), degree)\n",
    "        mse_tr.append(tr)\n",
    "        mse_te.append(te)\n",
    "        if te < mse_te[best_idx]:\n",
    "            best_idx = idx\n",
    "        idx += 1\n",
    "    \n",
    "    best_lambda = lambdas[best_idx]\n",
    "    best_mse = mse_te[best_idx]\n",
    "        \n",
    "    cross_validation_visualization(lambdas, mse_tr, mse_te)\n",
    "    print(\"For polynomial expansion up to degree %.f, the choice of lambda which leads to the best test mse is %.5f with a test mse of %.3f\" % (degree, best_lambda, best_mse))\n",
    "    return best_lambda, best_mse\n",
    "\n",
    "lambdas = np.logspace(-4, 0, 30)\n",
    "#best_lambda, best_rmse = cross_validation_demo(7, 4, np.logspace(-4, 0, 30))"
   ]
  },
  {
   "cell_type": "markdown",
   "id": "0b6ca23c-c1ac-4785-93b3-f324f71a9efe",
   "metadata": {},
   "source": [
    "Now try different methods"
   ]
  },
  {
   "cell_type": "code",
   "execution_count": 60,
   "id": "c11c000e-38a2-47d7-9b99-c3d21d3407b1",
   "metadata": {},
   "outputs": [
    {
     "name": "stdout",
     "output_type": "stream",
     "text": [
      "(73790,) (73790, 20)\n",
      "(20, 20)\n"
     ]
    }
   ],
   "source": [
    "print(jet_sets_labels[0].shape,jet_sets[0].shape)\n",
    "print((jet_sets[0].T @ jet_sets[0]).shape)"
   ]
  },
  {
   "cell_type": "code",
   "execution_count": 58,
   "id": "e9ebb8fe-4d8d-446e-8d55-17ec3da49300",
   "metadata": {},
   "outputs": [
    {
     "ename": "LinAlgError",
     "evalue": "Singular matrix",
     "output_type": "error",
     "traceback": [
      "\u001b[0;31m---------------------------------------------------------------------------\u001b[0m",
      "\u001b[0;31mLinAlgError\u001b[0m                               Traceback (most recent call last)",
      "\u001b[0;32m/tmp/ipykernel_8166/107751757.py\u001b[0m in \u001b[0;36m<module>\u001b[0;34m\u001b[0m\n\u001b[0;32m----> 1\u001b[0;31m \u001b[0mcross_validation\u001b[0m\u001b[0;34m(\u001b[0m\u001b[0mjet_sets_labels\u001b[0m\u001b[0;34m[\u001b[0m\u001b[0;36m0\u001b[0m\u001b[0;34m]\u001b[0m\u001b[0;34m,\u001b[0m\u001b[0mjet_sets\u001b[0m\u001b[0;34m[\u001b[0m\u001b[0;36m0\u001b[0m\u001b[0;34m]\u001b[0m\u001b[0;34m,\u001b[0m\u001b[0mleast_squares\u001b[0m\u001b[0;34m,\u001b[0m\u001b[0;36m1\u001b[0m\u001b[0;34m)\u001b[0m\u001b[0;34m\u001b[0m\u001b[0;34m\u001b[0m\u001b[0m\n\u001b[0m",
      "\u001b[0;32m/tmp/ipykernel_8166/2666074484.py\u001b[0m in \u001b[0;36mcross_validation\u001b[0;34m(y, x, train_model, degree)\u001b[0m\n\u001b[1;32m     52\u001b[0m     \u001b[0mk\u001b[0m \u001b[0;34m=\u001b[0m \u001b[0;36m4\u001b[0m\u001b[0;34m\u001b[0m\u001b[0;34m\u001b[0m\u001b[0m\n\u001b[1;32m     53\u001b[0m     \u001b[0mtrain_idx\u001b[0m\u001b[0;34m,\u001b[0m \u001b[0mtest_idx\u001b[0m \u001b[0;34m=\u001b[0m \u001b[0mbuild_validation_sets\u001b[0m\u001b[0;34m(\u001b[0m\u001b[0mx\u001b[0m\u001b[0;34m,\u001b[0m \u001b[0mk\u001b[0m\u001b[0;34m,\u001b[0m \u001b[0mseed\u001b[0m\u001b[0;34m)\u001b[0m\u001b[0;34m\u001b[0m\u001b[0;34m\u001b[0m\u001b[0m\n\u001b[0;32m---> 54\u001b[0;31m     \u001b[0mmodel\u001b[0m\u001b[0;34m,\u001b[0m \u001b[0mtrain_loss\u001b[0m \u001b[0;34m=\u001b[0m \u001b[0mtrain_model\u001b[0m\u001b[0;34m(\u001b[0m\u001b[0my\u001b[0m\u001b[0;34m[\u001b[0m\u001b[0mtrain_idx\u001b[0m\u001b[0;34m]\u001b[0m\u001b[0;34m,\u001b[0m \u001b[0mtx\u001b[0m\u001b[0;34m[\u001b[0m\u001b[0mtrain_idx\u001b[0m\u001b[0;34m]\u001b[0m\u001b[0;34m)\u001b[0m\u001b[0;34m\u001b[0m\u001b[0;34m\u001b[0m\u001b[0m\n\u001b[0m\u001b[1;32m     55\u001b[0m     \u001b[0mtest_loss\u001b[0m \u001b[0;34m=\u001b[0m \u001b[0mcompute_loss\u001b[0m\u001b[0;34m(\u001b[0m\u001b[0my\u001b[0m\u001b[0;34m[\u001b[0m\u001b[0mtest_idx\u001b[0m\u001b[0;34m]\u001b[0m\u001b[0;34m,\u001b[0m \u001b[0mtx\u001b[0m\u001b[0;34m[\u001b[0m\u001b[0mtest_idx\u001b[0m\u001b[0;34m]\u001b[0m\u001b[0;34m,\u001b[0m \u001b[0mmodel\u001b[0m\u001b[0;34m)\u001b[0m\u001b[0;34m\u001b[0m\u001b[0;34m\u001b[0m\u001b[0m\n\u001b[1;32m     56\u001b[0m     \u001b[0;32mreturn\u001b[0m \u001b[0mmodel\u001b[0m\u001b[0;34m,\u001b[0m \u001b[0mtrain_loss\u001b[0m\u001b[0;34m,\u001b[0m \u001b[0mtest_loss\u001b[0m\u001b[0;34m\u001b[0m\u001b[0;34m\u001b[0m\u001b[0m\n",
      "\u001b[0;32m~-userdata/Documents/EPFL/ma3/machine_learning/project1/implementations.py\u001b[0m in \u001b[0;36mleast_squares\u001b[0;34m(y, tx)\u001b[0m\n\u001b[1;32m     61\u001b[0m     \u001b[0mtx\u001b[0m \u001b[0;34m-\u001b[0m\u001b[0;34m-\u001b[0m \u001b[0marray\u001b[0m \u001b[0mof\u001b[0m \u001b[0mfeatures\u001b[0m \u001b[0;32mfor\u001b[0m \u001b[0meach\u001b[0m \u001b[0mdatapoint\u001b[0m\u001b[0;34m\u001b[0m\u001b[0;34m\u001b[0m\u001b[0m\n\u001b[1;32m     62\u001b[0m     \"\"\"\n\u001b[0;32m---> 63\u001b[0;31m     \u001b[0mweights\u001b[0m \u001b[0;34m=\u001b[0m \u001b[0mnp\u001b[0m\u001b[0;34m.\u001b[0m\u001b[0mlinalg\u001b[0m\u001b[0;34m.\u001b[0m\u001b[0minv\u001b[0m\u001b[0;34m(\u001b[0m\u001b[0mtx\u001b[0m\u001b[0;34m.\u001b[0m\u001b[0mT\u001b[0m \u001b[0;34m@\u001b[0m \u001b[0mtx\u001b[0m\u001b[0;34m)\u001b[0m \u001b[0;34m@\u001b[0m \u001b[0mtx\u001b[0m\u001b[0;34m.\u001b[0m\u001b[0mT\u001b[0m \u001b[0;34m@\u001b[0m \u001b[0my\u001b[0m\u001b[0;34m\u001b[0m\u001b[0;34m\u001b[0m\u001b[0m\n\u001b[0m\u001b[1;32m     64\u001b[0m \u001b[0;34m\u001b[0m\u001b[0m\n\u001b[1;32m     65\u001b[0m     \u001b[0me\u001b[0m \u001b[0;34m=\u001b[0m \u001b[0my\u001b[0m \u001b[0;34m-\u001b[0m \u001b[0;34m(\u001b[0m\u001b[0mtx\u001b[0m \u001b[0;34m@\u001b[0m \u001b[0mweights\u001b[0m\u001b[0;34m)\u001b[0m\u001b[0;34m\u001b[0m\u001b[0;34m\u001b[0m\u001b[0m\n",
      "\u001b[0;32m<__array_function__ internals>\u001b[0m in \u001b[0;36minv\u001b[0;34m(*args, **kwargs)\u001b[0m\n",
      "\u001b[0;32m/opt/anaconda/lib/python3.9/site-packages/numpy/linalg/linalg.py\u001b[0m in \u001b[0;36minv\u001b[0;34m(a)\u001b[0m\n\u001b[1;32m    543\u001b[0m     \u001b[0msignature\u001b[0m \u001b[0;34m=\u001b[0m \u001b[0;34m'D->D'\u001b[0m \u001b[0;32mif\u001b[0m \u001b[0misComplexType\u001b[0m\u001b[0;34m(\u001b[0m\u001b[0mt\u001b[0m\u001b[0;34m)\u001b[0m \u001b[0;32melse\u001b[0m \u001b[0;34m'd->d'\u001b[0m\u001b[0;34m\u001b[0m\u001b[0;34m\u001b[0m\u001b[0m\n\u001b[1;32m    544\u001b[0m     \u001b[0mextobj\u001b[0m \u001b[0;34m=\u001b[0m \u001b[0mget_linalg_error_extobj\u001b[0m\u001b[0;34m(\u001b[0m\u001b[0m_raise_linalgerror_singular\u001b[0m\u001b[0;34m)\u001b[0m\u001b[0;34m\u001b[0m\u001b[0;34m\u001b[0m\u001b[0m\n\u001b[0;32m--> 545\u001b[0;31m     \u001b[0mainv\u001b[0m \u001b[0;34m=\u001b[0m \u001b[0m_umath_linalg\u001b[0m\u001b[0;34m.\u001b[0m\u001b[0minv\u001b[0m\u001b[0;34m(\u001b[0m\u001b[0ma\u001b[0m\u001b[0;34m,\u001b[0m \u001b[0msignature\u001b[0m\u001b[0;34m=\u001b[0m\u001b[0msignature\u001b[0m\u001b[0;34m,\u001b[0m \u001b[0mextobj\u001b[0m\u001b[0;34m=\u001b[0m\u001b[0mextobj\u001b[0m\u001b[0;34m)\u001b[0m\u001b[0;34m\u001b[0m\u001b[0;34m\u001b[0m\u001b[0m\n\u001b[0m\u001b[1;32m    546\u001b[0m     \u001b[0;32mreturn\u001b[0m \u001b[0mwrap\u001b[0m\u001b[0;34m(\u001b[0m\u001b[0mainv\u001b[0m\u001b[0;34m.\u001b[0m\u001b[0mastype\u001b[0m\u001b[0;34m(\u001b[0m\u001b[0mresult_t\u001b[0m\u001b[0;34m,\u001b[0m \u001b[0mcopy\u001b[0m\u001b[0;34m=\u001b[0m\u001b[0;32mFalse\u001b[0m\u001b[0;34m)\u001b[0m\u001b[0;34m)\u001b[0m\u001b[0;34m\u001b[0m\u001b[0;34m\u001b[0m\u001b[0m\n\u001b[1;32m    547\u001b[0m \u001b[0;34m\u001b[0m\u001b[0m\n",
      "\u001b[0;32m/opt/anaconda/lib/python3.9/site-packages/numpy/linalg/linalg.py\u001b[0m in \u001b[0;36m_raise_linalgerror_singular\u001b[0;34m(err, flag)\u001b[0m\n\u001b[1;32m     86\u001b[0m \u001b[0;34m\u001b[0m\u001b[0m\n\u001b[1;32m     87\u001b[0m \u001b[0;32mdef\u001b[0m \u001b[0m_raise_linalgerror_singular\u001b[0m\u001b[0;34m(\u001b[0m\u001b[0merr\u001b[0m\u001b[0;34m,\u001b[0m \u001b[0mflag\u001b[0m\u001b[0;34m)\u001b[0m\u001b[0;34m:\u001b[0m\u001b[0;34m\u001b[0m\u001b[0;34m\u001b[0m\u001b[0m\n\u001b[0;32m---> 88\u001b[0;31m     \u001b[0;32mraise\u001b[0m \u001b[0mLinAlgError\u001b[0m\u001b[0;34m(\u001b[0m\u001b[0;34m\"Singular matrix\"\u001b[0m\u001b[0;34m)\u001b[0m\u001b[0;34m\u001b[0m\u001b[0;34m\u001b[0m\u001b[0m\n\u001b[0m\u001b[1;32m     89\u001b[0m \u001b[0;34m\u001b[0m\u001b[0m\n\u001b[1;32m     90\u001b[0m \u001b[0;32mdef\u001b[0m \u001b[0m_raise_linalgerror_nonposdef\u001b[0m\u001b[0;34m(\u001b[0m\u001b[0merr\u001b[0m\u001b[0;34m,\u001b[0m \u001b[0mflag\u001b[0m\u001b[0;34m)\u001b[0m\u001b[0;34m:\u001b[0m\u001b[0;34m\u001b[0m\u001b[0;34m\u001b[0m\u001b[0m\n",
      "\u001b[0;31mLinAlgError\u001b[0m: Singular matrix"
     ]
    }
   ],
   "source": [
    "cross_validation(jet_sets_labels[0],jet_sets[0],least_squares,1)"
   ]
  },
  {
   "cell_type": "code",
   "execution_count": null,
   "id": "f98042de-c114-4778-aaa4-5e7e88216a11",
   "metadata": {},
   "outputs": [],
   "source": [
    "cross_validation_explore_lambda(lambda y,tx,lambda_: ridge_regression(y,tx,lambda_), 3, lambdas)"
   ]
  },
  {
   "cell_type": "code",
   "execution_count": null,
   "id": "e92c7e36-e536-40c2-b099-eed4569f3492",
   "metadata": {},
   "outputs": [],
   "source": [
    "cross_validation(lambda y,tx: logistic_regression(y, tx, np.zeros(tx.shape[1]), 100, 0.001), 1)"
   ]
  }
 ],
 "metadata": {
  "kernelspec": {
   "display_name": "Python 3 (ipykernel)",
   "language": "python",
   "name": "python3"
  },
  "language_info": {
   "codemirror_mode": {
    "name": "ipython",
    "version": 3
   },
   "file_extension": ".py",
   "mimetype": "text/x-python",
   "name": "python",
   "nbconvert_exporter": "python",
   "pygments_lexer": "ipython3",
   "version": "3.9.13"
  }
 },
 "nbformat": 4,
 "nbformat_minor": 5
}
