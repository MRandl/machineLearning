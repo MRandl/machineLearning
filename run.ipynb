{
 "cells": [
  {
   "cell_type": "code",
   "execution_count": 10,
   "id": "4a3a65fb-8def-459a-86ff-14f5cf3bc802",
   "metadata": {},
   "outputs": [],
   "source": [
    "import pandas as pd\n",
    "import numpy as np\n",
    "import random\n",
    "from implementations import *\n",
    "from helpers import load_csv_data"
   ]
  },
  {
   "cell_type": "code",
   "execution_count": 1,
   "id": "c729a004-595c-4d58-bbcb-b0f304e22f70",
   "metadata": {},
   "outputs": [],
   "source": [
    "seed = 7"
   ]
  },
  {
   "cell_type": "code",
   "execution_count": 4,
   "id": "e341eab5-e4f6-4687-9576-69a6f221159d",
   "metadata": {},
   "outputs": [],
   "source": [
    "train_labels, train_data, train_ids = load_csv_data(\"data/train.csv\")\n",
    "#test_labels, test_data, test_ids = load_csv_data(\"data/test.csv\")"
   ]
  },
  {
   "cell_type": "markdown",
   "id": "b2ca872b-30c3-4f59-8b18-8fc47b675eb5",
   "metadata": {},
   "source": [
    "Add a first column of constant ones"
   ]
  },
  {
   "cell_type": "code",
   "execution_count": 14,
   "id": "df0543e4-c5e4-422c-b5c5-fcf8ebb58820",
   "metadata": {},
   "outputs": [],
   "source": [
    "ones = np.ones((train_data.shape[0],1))\n",
    "tx = np.hstack((ones, train_data))\n",
    "#test_ones = np.ones((test_data.shape[0],1))\n",
    "#test_tx = np.hstack((test_ones, test_data))\n",
    "y = train_labels"
   ]
  },
  {
   "cell_type": "markdown",
   "id": "164a3dcd-aaa0-46dd-b54e-e2a6329012fd",
   "metadata": {},
   "source": [
    "functions to test different methods for regression"
   ]
  },
  {
   "cell_type": "code",
   "execution_count": 23,
   "id": "fdbe4f29-56e7-4f6d-b3d3-8e9b5b0b04b5",
   "metadata": {},
   "outputs": [],
   "source": [
    "def compute_loss(y, tx, model):\n",
    "    err = y - (tx @ model)\n",
    "    return (err.T @ err)/y.shape[0]\n",
    "\n",
    "def build_k_indices(y, k_fold, seed):\n",
    "    \"\"\"build k indices for k-fold.\n",
    "    \n",
    "    Args:\n",
    "        y:      shape=(N,)\n",
    "        k_fold: K in K-fold, i.e. the fold num\n",
    "        seed:   the random seed\n",
    "\n",
    "    Returns:\n",
    "        A 2D array of shape=(k_fold, N/k_fold) that indicates the data indices for each fold\n",
    "\n",
    "    >>> build_k_indices(np.array([1., 2., 3., 4.]), 2, 1)\n",
    "    array([[3, 2],\n",
    "           [0, 1]])\n",
    "    \"\"\"\n",
    "    num_row = y.shape[0]\n",
    "    interval = int(num_row / k_fold)\n",
    "    np.random.seed(seed)\n",
    "    indices = np.random.permutation(num_row)\n",
    "    k_indices = [indices[k * interval: (k + 1) * interval] for k in range(k_fold)]\n",
    "    return np.array(k_indices)\n",
    "\n",
    "def using_method(train_model):\n",
    "    \"\"\"\n",
    "    Tests a certain training function using 4-fold cross-validation\n",
    "    arguments: \n",
    "    train_model: func(y, tx) -> model\n",
    "    returns: model, expected_loss\n",
    "    \"\"\"\n",
    "    k = 4\n",
    "    k_indices = build_k_indices(train_y, k, seed)\n",
    "    test_idx = k_indices[k-1]\n",
    "    train_idx = (k_indices[:k-1]).flatten()\n",
    "    model, train_loss = train_model(y[train_idx], tx[train_idx])\n",
    "    test_loss = compute_loss(y[test_idx], tx[test_idx], model)\n",
    "    return model, test_loss"
   ]
  },
  {
   "cell_type": "markdown",
   "id": "0b6ca23c-c1ac-4785-93b3-f324f71a9efe",
   "metadata": {},
   "source": [
    "Now try different methods"
   ]
  },
  {
   "cell_type": "code",
   "execution_count": 24,
   "id": "e9ebb8fe-4d8d-446e-8d55-17ec3da49300",
   "metadata": {},
   "outputs": [
    {
     "data": {
      "text/plain": [
       "(array([-3.69200662e-01,  7.25959416e-05, -7.21325174e-03, -6.22529353e-03,\n",
       "        -6.04962266e-04, -2.70293764e-03,  4.31706296e-04, -2.60819014e-02,\n",
       "         3.41196625e-01, -8.91027605e-05, -2.29693777e+00, -2.16773412e-01,\n",
       "         9.71974519e-02,  4.58128562e-02,  2.30549749e+00, -4.38304925e-04,\n",
       "        -1.35401773e-03,  2.31010787e+00, -9.28875488e-04,  4.98961766e-04,\n",
       "         3.84718609e-03,  8.73514078e-04, -4.93964898e-04, -2.08798128e-01,\n",
       "        -1.16919903e-04,  9.11650566e-04, -4.70952829e-04,  3.10052697e-05,\n",
       "        -6.32614235e-03, -1.08960417e-02,  2.29612132e+00]),\n",
       " 0.6824535262405655)"
      ]
     },
     "execution_count": 24,
     "metadata": {},
     "output_type": "execute_result"
    }
   ],
   "source": [
    "using_method(least_squares)"
   ]
  },
  {
   "cell_type": "code",
   "execution_count": 29,
   "id": "f98042de-c114-4778-aaa4-5e7e88216a11",
   "metadata": {},
   "outputs": [
    {
     "data": {
      "text/plain": [
       "(array([-3.67453313e-01,  7.26504386e-05, -7.21408261e-03, -6.22365469e-03,\n",
       "        -6.05763429e-04, -2.78355919e-03,  4.31854217e-04, -2.60894162e-02,\n",
       "         3.41060111e-01, -8.87995896e-05, -3.33784877e-03, -2.16750759e-01,\n",
       "         9.71972335e-02,  4.58988585e-02,  1.18964084e-02, -4.40617687e-04,\n",
       "        -1.35361461e-03,  1.65061054e-02, -9.27074597e-04,  4.98585092e-04,\n",
       "         3.84757476e-03,  8.76254227e-04, -4.94122327e-04, -2.09314554e-01,\n",
       "        -1.21965503e-04,  9.13166563e-04, -4.66909825e-04,  2.37616071e-05,\n",
       "        -6.32337966e-03, -1.08887263e-02,  2.52647085e-03]),\n",
       " 0.6824576588149239)"
      ]
     },
     "execution_count": 29,
     "metadata": {},
     "output_type": "execute_result"
    }
   ],
   "source": [
    "using_method(lambda y,tx: ridge_regression(y,tx,0.00001))"
   ]
  }
 ],
 "metadata": {
  "kernelspec": {
   "display_name": "Python 3 (ipykernel)",
   "language": "python",
   "name": "python3"
  },
  "language_info": {
   "codemirror_mode": {
    "name": "ipython",
    "version": 3
   },
   "file_extension": ".py",
   "mimetype": "text/x-python",
   "name": "python",
   "nbconvert_exporter": "python",
   "pygments_lexer": "ipython3",
   "version": "3.9.13"
  }
 },
 "nbformat": 4,
 "nbformat_minor": 5
}
