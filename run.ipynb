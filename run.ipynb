{
 "cells": [
  {
   "cell_type": "code",
   "execution_count": 1,
   "id": "d5f561ff-6f24-4637-b93b-bdcf10bdb5f6",
   "metadata": {},
   "outputs": [],
   "source": [
    "import numpy as np\n",
    "from helpers import *\n",
    "from implementations import *"
   ]
  },
  {
   "cell_type": "markdown",
   "id": "76a427f3-5181-4e15-b512-0a5b89ffb712",
   "metadata": {},
   "source": [
    "## Loading data"
   ]
  },
  {
   "cell_type": "code",
   "execution_count": 2,
   "id": "2a8e28e0-9503-41db-a4c9-6017116a99a0",
   "metadata": {},
   "outputs": [],
   "source": [
    "(y, ox, ids) = load_csv_data('data/train.csv')\n",
    "(_, otest, testid) = load_csv_data('data/test.csv')"
   ]
  },
  {
   "cell_type": "code",
   "execution_count": 3,
   "id": "f2a48ee5-3da3-4de9-8ed7-f16183f4888d",
   "metadata": {},
   "outputs": [],
   "source": [
    "x = ox.copy()\n",
    "test = otest.copy()"
   ]
  },
  {
   "cell_type": "code",
   "execution_count": 4,
   "id": "33891f3e-55d7-42eb-b993-8ae0921fc7b4",
   "metadata": {},
   "outputs": [
    {
     "data": {
      "text/plain": [
       "((250000,), (250000, 30), (250000,))"
      ]
     },
     "execution_count": 4,
     "metadata": {},
     "output_type": "execute_result"
    }
   ],
   "source": [
    "(y.shape, x.shape, ids.shape)"
   ]
  },
  {
   "cell_type": "markdown",
   "id": "9519d606-8bf4-4d7a-b2a4-376516ae2da8",
   "metadata": {},
   "source": [
    "## Cleaning data"
   ]
  },
  {
   "cell_type": "code",
   "execution_count": 5,
   "id": "8c5b9aee-ab1a-42f8-b3f2-e881b6dab783",
   "metadata": {},
   "outputs": [],
   "source": [
    "#remove 999s, replacing by mean of column\n",
    "x[np.where(x == -999)] = np.NaN\n",
    "col_mean = np.nanmean(x, axis=0)\n",
    "inds = np.where(np.isnan(x))\n",
    "x[inds] = np.take(col_mean, inds[1])"
   ]
  },
  {
   "cell_type": "code",
   "execution_count": 6,
   "id": "008231b0-7eba-4501-b182-8c29e0dda66f",
   "metadata": {},
   "outputs": [],
   "source": [
    "test[np.where(test == -999)] = np.NaN\n",
    "inds = np.where(np.isnan(test))\n",
    "test[inds] = np.take(col_mean, inds[1])"
   ]
  },
  {
   "cell_type": "markdown",
   "id": "7a1eb6d7-cf34-4abe-b2d3-594a66708191",
   "metadata": {},
   "source": [
    "## Expanding data"
   ]
  },
  {
   "cell_type": "code",
   "execution_count": 7,
   "id": "ec2e3c36-f4bc-44c8-8501-5b0faca35f0c",
   "metadata": {},
   "outputs": [],
   "source": [
    "def build_poly(x, degree):\n",
    "    \"\"\"polynomial basis functions for input data x, for j=0 up to j=degree.\n",
    "    \n",
    "    Args:\n",
    "        x: numpy array of shape (N,D)\n",
    "        degree: integer.\n",
    "        \n",
    "    Returns:\n",
    "        poly: numpy array of shape (N,D*d+1)\n",
    "    \"\"\"    \n",
    "    N = x.shape[0]\n",
    "    D = x.shape[1]\n",
    "    #poly_base = np.zeros((N, D*degree + 1))\n",
    "    poly_base = np.ones((N,1))\n",
    "    poly_base = np.hstack((poly_base, x.copy()))\n",
    "    for i in range(degree-1):\n",
    "        range_start = 1 + i*D\n",
    "        range_stop = 1 + (i+1)*D\n",
    "        next_power = poly_base[:,range_start:range_stop]*x\n",
    "        poly_base = np.hstack((poly_base, next_power))\n",
    "    \n",
    "    return poly_base\n",
    "\n",
    "\n",
    "def expand_features(x):\n",
    "    return np.hstack((build_poly(x, 6), np.sin(x), np.log(np.absolute(x) + 0.01)))"
   ]
  },
  {
   "cell_type": "code",
   "execution_count": 8,
   "id": "19c0d33c-c84a-4e3f-b3db-afb99c64b535",
   "metadata": {},
   "outputs": [],
   "source": [
    "x = expand_features(x)\n",
    "test = expand_features(test)"
   ]
  },
  {
   "cell_type": "code",
   "execution_count": 9,
   "id": "296d0798-d1e6-4345-b5c8-c8d9ab23ec34",
   "metadata": {},
   "outputs": [
    {
     "data": {
      "text/plain": [
       "(250000, 241)"
      ]
     },
     "execution_count": 9,
     "metadata": {},
     "output_type": "execute_result"
    }
   ],
   "source": [
    "x.shape"
   ]
  },
  {
   "cell_type": "markdown",
   "id": "fb1b7021-8f5d-472a-a0fe-f629d4a5c781",
   "metadata": {},
   "source": [
    "## Training model"
   ]
  },
  {
   "cell_type": "code",
   "execution_count": 10,
   "id": "94dcc253-5706-4e20-9d8f-f21be6917325",
   "metadata": {},
   "outputs": [],
   "source": [
    "#standardize\n",
    "trainmean = x.mean(axis = 0)\n",
    "trainstd  = x.std(axis = 0)\n",
    "\n",
    "#handle the case of the column of ones with std 0 : modify nothing\n",
    "trainmean[0] = 0\n",
    "trainstd[0]  = 1.0\n",
    "\n",
    "x = (x-trainmean)/trainstd\n",
    "test = (test - trainmean)/trainstd"
   ]
  },
  {
   "cell_type": "code",
   "execution_count": 11,
   "id": "a848a13c-5466-48a3-81bc-040d3f2fdd7f",
   "metadata": {},
   "outputs": [],
   "source": [
    "(w, loss) = least_squares(y, x)"
   ]
  },
  {
   "cell_type": "markdown",
   "id": "b77ac2f6-0897-4aa8-86eb-832fafb5ba01",
   "metadata": {},
   "source": [
    "## Cross validation"
   ]
  },
  {
   "cell_type": "code",
   "execution_count": 12,
   "id": "8efb0916-46d5-4843-a6d2-afd248828493",
   "metadata": {},
   "outputs": [],
   "source": [
    "def compute_opposite_of_accuracy(y, tx, model):\n",
    "    lpred = (tx @ model)\n",
    "    lpred[np.where(lpred < 0)] = -1\n",
    "    lpred[np.where(lpred >= 0)] = 1\n",
    "    err = (y - lpred)/2\n",
    "    \n",
    "    return np.absolute(err).mean()\n",
    "    \n",
    "def cross_validation(train_model, y, tx):\n",
    "    \"\"\"\n",
    "    Tests a certain training function using 4-fold cross-validation\n",
    "    arguments: \n",
    "    train_model: func(y, tx) -> model\n",
    "    returns: model, training_loss, test_loss\n",
    "    \"\"\"\n",
    "    k = 4\n",
    "    k_indices = build_k_indices(y, k, seed=12345)\n",
    "    test_idx = k_indices[k-1]\n",
    "    train_idx = (k_indices[:k-1]).flatten()\n",
    "    model, train_loss = train_model(y[train_idx], tx[train_idx])\n",
    "    one_minus_acc = compute_opposite_of_accuracy(y[test_idx], tx[test_idx], model)\n",
    "    return model, train_loss, one_minus_acc\n",
    "\n",
    "def build_k_indices(y, k_fold, seed):\n",
    "    \"\"\"build k indices for k-fold.\n",
    "    \n",
    "    Args:\n",
    "        y:      shape=(N,)\n",
    "        k_fold: K in K-fold, i.e. the fold num\n",
    "        seed:   the random seed\n",
    "\n",
    "    Returns:\n",
    "        A 2D array of shape=(k_fold, N/k_fold) that indicates the data indices for each fold\n",
    "\n",
    "    >>> build_k_indices(np.array([1., 2., 3., 4.]), 2, 1)\n",
    "    array([[3, 2],\n",
    "           [0, 1]])\n",
    "    \"\"\"\n",
    "    num_row = y.shape[0]\n",
    "    interval = int(num_row / k_fold)\n",
    "    np.random.seed(seed)\n",
    "    indices = np.random.permutation(num_row)\n",
    "    k_indices = [indices[k * interval: (k + 1) * interval] for k in range(k_fold)]\n",
    "    return np.array(k_indices)"
   ]
  },
  {
   "cell_type": "code",
   "execution_count": 13,
   "id": "4e0812f7-59ed-4fec-b1d0-a8922b9896b4",
   "metadata": {},
   "outputs": [],
   "source": [
    "\n",
    "_, trainloss, one_minus_acc = cross_validation(least_squares, y, x)"
   ]
  },
  {
   "cell_type": "code",
   "execution_count": 14,
   "id": "93b1ffcd-ced1-4976-af06-1db8e930f586",
   "metadata": {},
   "outputs": [
    {
     "data": {
      "text/plain": [
       "(0.28290147429606793, 0.189808)"
      ]
     },
     "execution_count": 14,
     "metadata": {},
     "output_type": "execute_result"
    }
   ],
   "source": [
    "trainloss, one_minus_acc"
   ]
  },
  {
   "cell_type": "code",
   "execution_count": 15,
   "id": "7b6faa9b-3750-4d5c-bdfc-addfabac529d",
   "metadata": {},
   "outputs": [
    {
     "data": {
      "text/plain": [
       "0.810192"
      ]
     },
     "execution_count": 15,
     "metadata": {},
     "output_type": "execute_result"
    }
   ],
   "source": [
    "1-one_minus_acc"
   ]
  },
  {
   "cell_type": "markdown",
   "id": "8062acfc-cacb-4b99-b1ae-4db5a250187b",
   "metadata": {},
   "source": [
    "## Model output"
   ]
  },
  {
   "cell_type": "code",
   "execution_count": 16,
   "id": "55961395-bdcf-4368-84fa-d3faf951c5bf",
   "metadata": {},
   "outputs": [],
   "source": [
    "def makeFinalPrediction(test, w):\n",
    "    res = test @ w\n",
    "    res[np.where(res < 0)] = -1\n",
    "    res[np.where(res >= 0)] = 1\n",
    "    create_csv_submission(testid, res, \"output.csv\")"
   ]
  },
  {
   "cell_type": "code",
   "execution_count": 17,
   "id": "670e8ef1-abd9-4e7f-afd4-84c05fc898f7",
   "metadata": {},
   "outputs": [],
   "source": [
    "makeFinalPrediction(test, w)"
   ]
  }
 ],
 "metadata": {
  "kernelspec": {
   "display_name": "Python 3 (ipykernel)",
   "language": "python",
   "name": "python3"
  },
  "language_info": {
   "codemirror_mode": {
    "name": "ipython",
    "version": 3
   },
   "file_extension": ".py",
   "mimetype": "text/x-python",
   "name": "python",
   "nbconvert_exporter": "python",
   "pygments_lexer": "ipython3",
   "version": "3.9.13"
  }
 },
 "nbformat": 4,
 "nbformat_minor": 5
}
