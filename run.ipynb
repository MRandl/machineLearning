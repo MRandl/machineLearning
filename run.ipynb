{
 "cells": [
  {
   "cell_type": "code",
   "execution_count": 60,
   "id": "4a3a65fb-8def-459a-86ff-14f5cf3bc802",
   "metadata": {},
   "outputs": [],
   "source": [
    "import pandas as pd\n",
    "import numpy as np\n",
    "import random\n",
    "import implementations\n",
    "from helpers import load_csv_data"
   ]
  },
  {
   "cell_type": "code",
   "execution_count": 22,
   "id": "c729a004-595c-4d58-bbcb-b0f304e22f70",
   "metadata": {},
   "outputs": [],
   "source": [
    "random.seed(7)"
   ]
  },
  {
   "cell_type": "code",
   "execution_count": 62,
   "id": "e341eab5-e4f6-4687-9576-69a6f221159d",
   "metadata": {},
   "outputs": [],
   "source": [
    "train_labels, train_data, train_ids = load_csv_data(\"data/train.csv\")\n",
    "test_labels, test_data, test_ids = load_csv_data(\"data/test.csv\")"
   ]
  },
  {
   "cell_type": "markdown",
   "id": "b2ca872b-30c3-4f59-8b18-8fc47b675eb5",
   "metadata": {},
   "source": [
    "Add a first column of constant ones"
   ]
  },
  {
   "cell_type": "code",
   "execution_count": 68,
   "id": "df0543e4-c5e4-422c-b5c5-fcf8ebb58820",
   "metadata": {},
   "outputs": [],
   "source": [
    "train_ones = np.ones((train_data.shape[0],1))\n",
    "train_tx = np.hstack((train_ones, train_data))\n",
    "test_ones = np.ones((test_data.shape[0],1))\n",
    "test_tx = np.hstack((test_ones, test_data))\n",
    "train_y = train_labels"
   ]
  },
  {
   "cell_type": "code",
   "execution_count": null,
   "id": "fdbe4f29-56e7-4f6d-b3d3-8e9b5b0b04b5",
   "metadata": {},
   "outputs": [],
   "source": [
    "def compute_loss(y, tx, model):\n",
    "    err = y - tx @ model\n",
    "    return (err.T @ err)/y.shape[0]\n",
    "\n",
    "def using_method(train_model):\n",
    "    \"\"\"\n",
    "    function to test a certain training function using 4-fold cross-validation\n",
    "    arguments: \n",
    "    train_model: func(y, tx) -> model\n",
    "    returns: expected_loss\n",
    "    \"\"\"\n",
    "    "
   ]
  }
 ],
 "metadata": {
  "kernelspec": {
   "display_name": "Python 3 (ipykernel)",
   "language": "python",
   "name": "python3"
  },
  "language_info": {
   "codemirror_mode": {
    "name": "ipython",
    "version": 3
   },
   "file_extension": ".py",
   "mimetype": "text/x-python",
   "name": "python",
   "nbconvert_exporter": "python",
   "pygments_lexer": "ipython3",
   "version": "3.9.13"
  }
 },
 "nbformat": 4,
 "nbformat_minor": 5
}
