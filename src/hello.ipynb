{
 "cells": [
  {
   "cell_type": "code",
   "execution_count": null,
   "metadata": {},
   "outputs": [],
   "source": [
    "import numpy as np\n",
    "from sklearn.metrics import confusion_matrix as cm #remove before submission "
   ]
  },
  {
   "cell_type": "code",
   "execution_count": null,
   "metadata": {},
   "outputs": [],
   "source": [
    "def load_data(name, cols, typ):\n",
    "    return np.loadtxt(name, delimiter=\",\", skiprows=1, usecols=cols, unpack=True, dtype=typ)"
   ]
  },
  {
   "cell_type": "code",
   "execution_count": null,
   "metadata": {},
   "outputs": [],
   "source": [
    "x = load_data(\"../data/train.csv\", range(2, 32), 'float64').transpose()\n",
    "stringY = load_data(\"../data/train.csv\", [1], 'str').transpose()\n",
    "\n",
    "y = np.array([1.0 if x == 's' else 0.0 for x in stringY])"
   ]
  },
  {
   "cell_type": "code",
   "execution_count": null,
   "metadata": {},
   "outputs": [],
   "source": [
    "print(np.unique(y, return_counts=True))\n",
    "print(np.unique(stringY, return_counts=True))"
   ]
  },
  {
   "cell_type": "code",
   "execution_count": null,
   "metadata": {},
   "outputs": [],
   "source": [
    "def least_squares_equations_weights(x, y):\n",
    "  return np.linalg.inv(x.T @ x) @ x.T @ y\n",
    "  \n",
    "def predict_least_squares(x, weights):\n",
    "  return x @ weights"
   ]
  },
  {
   "cell_type": "code",
   "execution_count": null,
   "metadata": {},
   "outputs": [],
   "source": [
    "weights = least_squares_weights(x, y)\n",
    "predY = predict_least_squares(x, weights)\n",
    "predY = np.array([1.0 if x >= 0.5 else 0.0 for x in predY])\n",
    "distance = np.abs(y - predY)\n"
   ]
  },
  {
   "cell_type": "code",
   "execution_count": null,
   "metadata": {},
   "outputs": [],
   "source": [
    "np.unique(distance, return_counts=True)"
   ]
  },
  {
   "cell_type": "code",
   "execution_count": null,
   "metadata": {},
   "outputs": [],
   "source": [
    "cm(y_true=y, y_pred=predY)"
   ]
  },
  {
   "cell_type": "markdown",
   "metadata": {},
   "source": []
  },
  {
   "cell_type": "markdown",
   "metadata": {},
   "source": []
  }
 ],
 "metadata": {
  "kernelspec": {
   "display_name": "Python 3.9.13 ('base')",
   "language": "python",
   "name": "python3"
  },
  "language_info": {
   "codemirror_mode": {
    "name": "ipython",
    "version": 3
   },
   "file_extension": ".py",
   "mimetype": "text/x-python",
   "name": "python",
   "nbconvert_exporter": "python",
   "pygments_lexer": "ipython3",
   "version": "3.9.13"
  },
  "orig_nbformat": 4,
  "vscode": {
   "interpreter": {
    "hash": "ab2955c73fb62b4f0c408300e203f45cee5e6a66b33226adab2decff060144cb"
   }
  }
 },
 "nbformat": 4,
 "nbformat_minor": 2
}
