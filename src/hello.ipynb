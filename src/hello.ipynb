{
 "cells": [
  {
   "cell_type": "code",
   "execution_count": 1,
   "metadata": {},
   "outputs": [],
   "source": [
    "import numpy as np\n",
    "from random import randint\n",
    "\n",
    "from sklearn.metrics import confusion_matrix as cm #remove before submission "
   ]
  },
  {
   "cell_type": "code",
   "execution_count": 2,
   "metadata": {},
   "outputs": [],
   "source": [
    "def load_data(name, cols, typ):\n",
    "    return np.loadtxt(name, delimiter=\",\", skiprows=1, usecols=cols, unpack=True, dtype=typ)"
   ]
  },
  {
   "cell_type": "code",
   "execution_count": 3,
   "metadata": {},
   "outputs": [],
   "source": [
    "# x = load_data(\"../data/train.csv\", range(2, 32), 'float64').transpose()\n",
    "# stringY = load_data(\"../data/train.csv\", [1], 'str').transpose()\n",
    "\n",
    "# y = np.array([1.0 if x == 's' else 0.0 for x in stringY])"
   ]
  },
  {
   "cell_type": "code",
   "execution_count": 4,
   "metadata": {},
   "outputs": [],
   "source": [
    "# print(np.unique(y, return_counts=True))\n",
    "# print(np.unique(stringY, return_counts=True))"
   ]
  },
  {
   "cell_type": "code",
   "execution_count": 2,
   "metadata": {},
   "outputs": [],
   "source": [
    "\n",
    "\n",
    "def mean_squared_error_gd(y, tx, initial_w, max_iters, gamma):\n",
    "  w = initial_w\n",
    "  N = tx.shape[0]\n",
    "\n",
    "  for _ in range(max_iters):\n",
    "    e = y - (tx @ w)\n",
    "    grad = (-1/N) * (tx.T @ e)\n",
    "    w = w - (gamma * grad)\n",
    "\n",
    "  e = y - (tx @ w)\n",
    "  loss = (e ** 2).mean()\n",
    "\n",
    "  return (w, loss)\n",
    "  \n",
    "\n",
    "def mean_squared_error_sgd(y, tx, initial_w, max_iters, gamma):\n",
    "  w = initial_w\n",
    "  N = tx.shape[0]\n",
    "\n",
    "  for _ in range(max_iters):\n",
    "    index = randint(0, N - 1)\n",
    "    xi = tx[index]\n",
    "    yi = y[index]\n",
    "    ei = yi - (xi @ w)\n",
    "    grad = (-ei) * xi.T\n",
    "    w = w - (gamma * grad)\n",
    "\n",
    "  e = y - (tx @ w)\n",
    "  loss = (e ** 2).mean()\n",
    "\n",
    "  return (w, loss)\n",
    "\n",
    "\n",
    "def least_squares(y, tx):\n",
    "  weights = np.linalg.inv(tx.T @ tx) @ tx.T @ y\n",
    "  \n",
    "  e = y - (tx @ weights)\n",
    "  loss = (e ** 2).mean()\n",
    "\n",
    "  return (weights, loss)\n",
    "\n",
    "\n",
    "def ridge_regression(y, tx, lambda_):\n",
    "  N, O = tx.shape\n",
    "  ridge_matrix = (2*N*lambda_) * np.eye(O)\n",
    "  weights = np.linalg.inv(tx.T @ tx + ridge_matrix) @ tx.T @ y\n",
    "  \n",
    "  e = y - (tx @ weights)\n",
    "  loss = (e ** 2).mean()\n",
    "\n",
    "  return (weights, loss)"
   ]
  },
  {
   "cell_type": "code",
   "execution_count": 3,
   "metadata": {},
   "outputs": [
    {
     "data": {
      "text/plain": [
       "(array([ 1., -1.]), 7.2273463984086045e-28)"
      ]
     },
     "execution_count": 3,
     "metadata": {},
     "output_type": "execute_result"
    }
   ],
   "source": [
    "y = np.array([1, 2, 3, 6, 6])\n",
    "tx = np.array([\n",
    "  [2, 1],\n",
    "  [2, 0],\n",
    "  [4, 1],\n",
    "  [10, 4],\n",
    "  [-10, -16]\n",
    "])\n",
    "initial_w = np.array([0.0, 0.0])\n",
    "max_iters = 40000\n",
    "gamma = 0.001\n",
    "mean_squared_error_gd(y, tx, initial_w, max_iters, gamma)\n"
   ]
  },
  {
   "cell_type": "code",
   "execution_count": null,
   "metadata": {},
   "outputs": [],
   "source": []
  },
  {
   "cell_type": "code",
   "execution_count": null,
   "metadata": {},
   "outputs": [],
   "source": []
  },
  {
   "cell_type": "code",
   "execution_count": null,
   "metadata": {},
   "outputs": [],
   "source": []
  },
  {
   "cell_type": "code",
   "execution_count": null,
   "metadata": {},
   "outputs": [],
   "source": []
  },
  {
   "cell_type": "code",
   "execution_count": null,
   "metadata": {},
   "outputs": [],
   "source": []
  },
  {
   "cell_type": "code",
   "execution_count": null,
   "metadata": {},
   "outputs": [],
   "source": []
  },
  {
   "cell_type": "code",
   "execution_count": null,
   "metadata": {},
   "outputs": [],
   "source": []
  },
  {
   "cell_type": "code",
   "execution_count": null,
   "metadata": {},
   "outputs": [],
   "source": []
  },
  {
   "cell_type": "code",
   "execution_count": null,
   "metadata": {},
   "outputs": [],
   "source": []
  },
  {
   "cell_type": "code",
   "execution_count": null,
   "metadata": {},
   "outputs": [],
   "source": []
  },
  {
   "cell_type": "markdown",
   "metadata": {},
   "source": []
  },
  {
   "cell_type": "markdown",
   "metadata": {},
   "source": []
  }
 ],
 "metadata": {
  "kernelspec": {
   "display_name": "Python 3 (ipykernel)",
   "language": "python",
   "name": "python3"
  },
  "language_info": {
   "codemirror_mode": {
    "name": "ipython",
    "version": 3
   },
   "file_extension": ".py",
   "mimetype": "text/x-python",
   "name": "python",
   "nbconvert_exporter": "python",
   "pygments_lexer": "ipython3",
   "version": "3.9.12"
  },
  "vscode": {
   "interpreter": {
    "hash": "ab2955c73fb62b4f0c408300e203f45cee5e6a66b33226adab2decff060144cb"
   }
  }
 },
 "nbformat": 4,
 "nbformat_minor": 4
}
